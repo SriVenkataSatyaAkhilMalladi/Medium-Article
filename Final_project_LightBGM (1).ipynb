{
  "nbformat": 4,
  "nbformat_minor": 0,
  "metadata": {
    "colab": {
      "provenance": []
    },
    "kernelspec": {
      "name": "python3",
      "display_name": "Python 3"
    },
    "language_info": {
      "name": "python"
    }
  },
  "cells": [
    {
      "cell_type": "code",
      "execution_count": 982,
      "metadata": {
        "id": "BcQqE4r4WMnN"
      },
      "outputs": [],
      "source": [
        "#importing the libraries \n",
        "import numpy as np # linear algebra\n",
        "import pandas as pd # data processing with CSV \n",
        "import matplotlib.pyplot as plt\n",
        "import matplotlib.style as style\n",
        "import seaborn as sns\n",
        "import scipy.stats as stats\n",
        "import pylab\n",
        "import warnings\n",
        "import seaborn as sns\n",
        "warnings.filterwarnings(\"ignore\")"
      ]
    },
    {
      "cell_type": "markdown",
      "source": [
        "Imported all the required packages that we may need."
      ],
      "metadata": {
        "id": "aAQ7rjc8xbGW"
      }
    },
    {
      "cell_type": "code",
      "source": [
        "#Reading the Dataset and Displaying the head of it.\n",
        "data=pd.read_csv(\"/content/drive/MyDrive/bank-additional-full.csv\", sep = \";\")\n",
        "data.name = \"data\"\n",
        "data.head()"
      ],
      "metadata": {
        "colab": {
          "base_uri": "https://localhost:8080/",
          "height": 300
        },
        "id": "7fJ8kY7vasAr",
        "outputId": "7ec058cb-b425-48b1-a72e-503780c732a7"
      },
      "execution_count": 983,
      "outputs": [
        {
          "output_type": "execute_result",
          "data": {
            "text/plain": [
              "   age        job  marital    education  default housing loan    contact  \\\n",
              "0   56  housemaid  married     basic.4y       no      no   no  telephone   \n",
              "1   57   services  married  high.school  unknown      no   no  telephone   \n",
              "2   37   services  married  high.school       no     yes   no  telephone   \n",
              "3   40     admin.  married     basic.6y       no      no   no  telephone   \n",
              "4   56   services  married  high.school       no      no  yes  telephone   \n",
              "\n",
              "  month day_of_week  ...  campaign  pdays  previous     poutcome emp.var.rate  \\\n",
              "0   may         mon  ...         1    999         0  nonexistent          1.1   \n",
              "1   may         mon  ...         1    999         0  nonexistent          1.1   \n",
              "2   may         mon  ...         1    999         0  nonexistent          1.1   \n",
              "3   may         mon  ...         1    999         0  nonexistent          1.1   \n",
              "4   may         mon  ...         1    999         0  nonexistent          1.1   \n",
              "\n",
              "   cons.price.idx  cons.conf.idx  euribor3m  nr.employed   y  \n",
              "0          93.994          -36.4      4.857       5191.0  no  \n",
              "1          93.994          -36.4      4.857       5191.0  no  \n",
              "2          93.994          -36.4      4.857       5191.0  no  \n",
              "3          93.994          -36.4      4.857       5191.0  no  \n",
              "4          93.994          -36.4      4.857       5191.0  no  \n",
              "\n",
              "[5 rows x 21 columns]"
            ],
            "text/html": [
              "\n",
              "  <div id=\"df-9661ae19-e233-478e-bb48-9576d207f339\">\n",
              "    <div class=\"colab-df-container\">\n",
              "      <div>\n",
              "<style scoped>\n",
              "    .dataframe tbody tr th:only-of-type {\n",
              "        vertical-align: middle;\n",
              "    }\n",
              "\n",
              "    .dataframe tbody tr th {\n",
              "        vertical-align: top;\n",
              "    }\n",
              "\n",
              "    .dataframe thead th {\n",
              "        text-align: right;\n",
              "    }\n",
              "</style>\n",
              "<table border=\"1\" class=\"dataframe\">\n",
              "  <thead>\n",
              "    <tr style=\"text-align: right;\">\n",
              "      <th></th>\n",
              "      <th>age</th>\n",
              "      <th>job</th>\n",
              "      <th>marital</th>\n",
              "      <th>education</th>\n",
              "      <th>default</th>\n",
              "      <th>housing</th>\n",
              "      <th>loan</th>\n",
              "      <th>contact</th>\n",
              "      <th>month</th>\n",
              "      <th>day_of_week</th>\n",
              "      <th>...</th>\n",
              "      <th>campaign</th>\n",
              "      <th>pdays</th>\n",
              "      <th>previous</th>\n",
              "      <th>poutcome</th>\n",
              "      <th>emp.var.rate</th>\n",
              "      <th>cons.price.idx</th>\n",
              "      <th>cons.conf.idx</th>\n",
              "      <th>euribor3m</th>\n",
              "      <th>nr.employed</th>\n",
              "      <th>y</th>\n",
              "    </tr>\n",
              "  </thead>\n",
              "  <tbody>\n",
              "    <tr>\n",
              "      <th>0</th>\n",
              "      <td>56</td>\n",
              "      <td>housemaid</td>\n",
              "      <td>married</td>\n",
              "      <td>basic.4y</td>\n",
              "      <td>no</td>\n",
              "      <td>no</td>\n",
              "      <td>no</td>\n",
              "      <td>telephone</td>\n",
              "      <td>may</td>\n",
              "      <td>mon</td>\n",
              "      <td>...</td>\n",
              "      <td>1</td>\n",
              "      <td>999</td>\n",
              "      <td>0</td>\n",
              "      <td>nonexistent</td>\n",
              "      <td>1.1</td>\n",
              "      <td>93.994</td>\n",
              "      <td>-36.4</td>\n",
              "      <td>4.857</td>\n",
              "      <td>5191.0</td>\n",
              "      <td>no</td>\n",
              "    </tr>\n",
              "    <tr>\n",
              "      <th>1</th>\n",
              "      <td>57</td>\n",
              "      <td>services</td>\n",
              "      <td>married</td>\n",
              "      <td>high.school</td>\n",
              "      <td>unknown</td>\n",
              "      <td>no</td>\n",
              "      <td>no</td>\n",
              "      <td>telephone</td>\n",
              "      <td>may</td>\n",
              "      <td>mon</td>\n",
              "      <td>...</td>\n",
              "      <td>1</td>\n",
              "      <td>999</td>\n",
              "      <td>0</td>\n",
              "      <td>nonexistent</td>\n",
              "      <td>1.1</td>\n",
              "      <td>93.994</td>\n",
              "      <td>-36.4</td>\n",
              "      <td>4.857</td>\n",
              "      <td>5191.0</td>\n",
              "      <td>no</td>\n",
              "    </tr>\n",
              "    <tr>\n",
              "      <th>2</th>\n",
              "      <td>37</td>\n",
              "      <td>services</td>\n",
              "      <td>married</td>\n",
              "      <td>high.school</td>\n",
              "      <td>no</td>\n",
              "      <td>yes</td>\n",
              "      <td>no</td>\n",
              "      <td>telephone</td>\n",
              "      <td>may</td>\n",
              "      <td>mon</td>\n",
              "      <td>...</td>\n",
              "      <td>1</td>\n",
              "      <td>999</td>\n",
              "      <td>0</td>\n",
              "      <td>nonexistent</td>\n",
              "      <td>1.1</td>\n",
              "      <td>93.994</td>\n",
              "      <td>-36.4</td>\n",
              "      <td>4.857</td>\n",
              "      <td>5191.0</td>\n",
              "      <td>no</td>\n",
              "    </tr>\n",
              "    <tr>\n",
              "      <th>3</th>\n",
              "      <td>40</td>\n",
              "      <td>admin.</td>\n",
              "      <td>married</td>\n",
              "      <td>basic.6y</td>\n",
              "      <td>no</td>\n",
              "      <td>no</td>\n",
              "      <td>no</td>\n",
              "      <td>telephone</td>\n",
              "      <td>may</td>\n",
              "      <td>mon</td>\n",
              "      <td>...</td>\n",
              "      <td>1</td>\n",
              "      <td>999</td>\n",
              "      <td>0</td>\n",
              "      <td>nonexistent</td>\n",
              "      <td>1.1</td>\n",
              "      <td>93.994</td>\n",
              "      <td>-36.4</td>\n",
              "      <td>4.857</td>\n",
              "      <td>5191.0</td>\n",
              "      <td>no</td>\n",
              "    </tr>\n",
              "    <tr>\n",
              "      <th>4</th>\n",
              "      <td>56</td>\n",
              "      <td>services</td>\n",
              "      <td>married</td>\n",
              "      <td>high.school</td>\n",
              "      <td>no</td>\n",
              "      <td>no</td>\n",
              "      <td>yes</td>\n",
              "      <td>telephone</td>\n",
              "      <td>may</td>\n",
              "      <td>mon</td>\n",
              "      <td>...</td>\n",
              "      <td>1</td>\n",
              "      <td>999</td>\n",
              "      <td>0</td>\n",
              "      <td>nonexistent</td>\n",
              "      <td>1.1</td>\n",
              "      <td>93.994</td>\n",
              "      <td>-36.4</td>\n",
              "      <td>4.857</td>\n",
              "      <td>5191.0</td>\n",
              "      <td>no</td>\n",
              "    </tr>\n",
              "  </tbody>\n",
              "</table>\n",
              "<p>5 rows × 21 columns</p>\n",
              "</div>\n",
              "      <button class=\"colab-df-convert\" onclick=\"convertToInteractive('df-9661ae19-e233-478e-bb48-9576d207f339')\"\n",
              "              title=\"Convert this dataframe to an interactive table.\"\n",
              "              style=\"display:none;\">\n",
              "        \n",
              "  <svg xmlns=\"http://www.w3.org/2000/svg\" height=\"24px\"viewBox=\"0 0 24 24\"\n",
              "       width=\"24px\">\n",
              "    <path d=\"M0 0h24v24H0V0z\" fill=\"none\"/>\n",
              "    <path d=\"M18.56 5.44l.94 2.06.94-2.06 2.06-.94-2.06-.94-.94-2.06-.94 2.06-2.06.94zm-11 1L8.5 8.5l.94-2.06 2.06-.94-2.06-.94L8.5 2.5l-.94 2.06-2.06.94zm10 10l.94 2.06.94-2.06 2.06-.94-2.06-.94-.94-2.06-.94 2.06-2.06.94z\"/><path d=\"M17.41 7.96l-1.37-1.37c-.4-.4-.92-.59-1.43-.59-.52 0-1.04.2-1.43.59L10.3 9.45l-7.72 7.72c-.78.78-.78 2.05 0 2.83L4 21.41c.39.39.9.59 1.41.59.51 0 1.02-.2 1.41-.59l7.78-7.78 2.81-2.81c.8-.78.8-2.07 0-2.86zM5.41 20L4 18.59l7.72-7.72 1.47 1.35L5.41 20z\"/>\n",
              "  </svg>\n",
              "      </button>\n",
              "      \n",
              "  <style>\n",
              "    .colab-df-container {\n",
              "      display:flex;\n",
              "      flex-wrap:wrap;\n",
              "      gap: 12px;\n",
              "    }\n",
              "\n",
              "    .colab-df-convert {\n",
              "      background-color: #E8F0FE;\n",
              "      border: none;\n",
              "      border-radius: 50%;\n",
              "      cursor: pointer;\n",
              "      display: none;\n",
              "      fill: #1967D2;\n",
              "      height: 32px;\n",
              "      padding: 0 0 0 0;\n",
              "      width: 32px;\n",
              "    }\n",
              "\n",
              "    .colab-df-convert:hover {\n",
              "      background-color: #E2EBFA;\n",
              "      box-shadow: 0px 1px 2px rgba(60, 64, 67, 0.3), 0px 1px 3px 1px rgba(60, 64, 67, 0.15);\n",
              "      fill: #174EA6;\n",
              "    }\n",
              "\n",
              "    [theme=dark] .colab-df-convert {\n",
              "      background-color: #3B4455;\n",
              "      fill: #D2E3FC;\n",
              "    }\n",
              "\n",
              "    [theme=dark] .colab-df-convert:hover {\n",
              "      background-color: #434B5C;\n",
              "      box-shadow: 0px 1px 3px 1px rgba(0, 0, 0, 0.15);\n",
              "      filter: drop-shadow(0px 1px 2px rgba(0, 0, 0, 0.3));\n",
              "      fill: #FFFFFF;\n",
              "    }\n",
              "  </style>\n",
              "\n",
              "      <script>\n",
              "        const buttonEl =\n",
              "          document.querySelector('#df-9661ae19-e233-478e-bb48-9576d207f339 button.colab-df-convert');\n",
              "        buttonEl.style.display =\n",
              "          google.colab.kernel.accessAllowed ? 'block' : 'none';\n",
              "\n",
              "        async function convertToInteractive(key) {\n",
              "          const element = document.querySelector('#df-9661ae19-e233-478e-bb48-9576d207f339');\n",
              "          const dataTable =\n",
              "            await google.colab.kernel.invokeFunction('convertToInteractive',\n",
              "                                                     [key], {});\n",
              "          if (!dataTable) return;\n",
              "\n",
              "          const docLinkHtml = 'Like what you see? Visit the ' +\n",
              "            '<a target=\"_blank\" href=https://colab.research.google.com/notebooks/data_table.ipynb>data table notebook</a>'\n",
              "            + ' to learn more about interactive tables.';\n",
              "          element.innerHTML = '';\n",
              "          dataTable['output_type'] = 'display_data';\n",
              "          await google.colab.output.renderOutput(dataTable, element);\n",
              "          const docLink = document.createElement('div');\n",
              "          docLink.innerHTML = docLinkHtml;\n",
              "          element.appendChild(docLink);\n",
              "        }\n",
              "      </script>\n",
              "    </div>\n",
              "  </div>\n",
              "  "
            ]
          },
          "metadata": {},
          "execution_count": 983
        }
      ]
    },
    {
      "cell_type": "markdown",
      "source": [
        "What are the data types? (Only numeric and categorical)"
      ],
      "metadata": {
        "id": "IsKoDVvBM5QF"
      }
    },
    {
      "cell_type": "code",
      "source": [
        "#Data types of the columns present in the DataSet\n",
        "data.dtypes"
      ],
      "metadata": {
        "colab": {
          "base_uri": "https://localhost:8080/"
        },
        "id": "23jixjgmbjIa",
        "outputId": "7dcc96b3-f620-4a61-ac36-4c19b01ab300"
      },
      "execution_count": 984,
      "outputs": [
        {
          "output_type": "execute_result",
          "data": {
            "text/plain": [
              "age                 int64\n",
              "job                object\n",
              "marital            object\n",
              "education          object\n",
              "default            object\n",
              "housing            object\n",
              "loan               object\n",
              "contact            object\n",
              "month              object\n",
              "day_of_week        object\n",
              "duration            int64\n",
              "campaign            int64\n",
              "pdays               int64\n",
              "previous            int64\n",
              "poutcome           object\n",
              "emp.var.rate      float64\n",
              "cons.price.idx    float64\n",
              "cons.conf.idx     float64\n",
              "euribor3m         float64\n",
              "nr.employed       float64\n",
              "y                  object\n",
              "dtype: object"
            ]
          },
          "metadata": {},
          "execution_count": 984
        }
      ]
    },
    {
      "cell_type": "markdown",
      "source": [
        "We can see from above that out of the 21 columns present in the dataset, there are 10 Numerical datatypes and 11 Categorical ones.\n",
        "\n",
        "Numerical/Quantitative DataTypes:\n",
        "Numerical data refers to the data that is in the form of numbers, and not in any language or descriptive form.\n",
        "ex:\n",
        "age,duration,campaign,pdays,previous,emp.var.rate,cons.price.idx,cons.conf.idx,euribor3m,nr.employed       \n",
        "\n",
        "Categorical/Qualitative DataTypes:\n",
        "Categorical data refers to a data type that can be stored and identified based on the names or labels given to them.\n",
        "ex:\n",
        "job,marital,education,default,housing,loan,poutcome,contact,month,day_of_week,y                  "
      ],
      "metadata": {
        "id": "Lqpqn-v-rU8k"
      }
    },
    {
      "cell_type": "code",
      "source": [
        "data.describe()"
      ],
      "metadata": {
        "colab": {
          "base_uri": "https://localhost:8080/",
          "height": 300
        },
        "id": "9DLgGzm-B7DJ",
        "outputId": "f28420f9-cc84-4928-d084-88dc0b54f43d"
      },
      "execution_count": 985,
      "outputs": [
        {
          "output_type": "execute_result",
          "data": {
            "text/plain": [
              "               age      duration      campaign         pdays      previous  \\\n",
              "count  41188.00000  41188.000000  41188.000000  41188.000000  41188.000000   \n",
              "mean      40.02406    258.285010      2.567593    962.475454      0.172963   \n",
              "std       10.42125    259.279249      2.770014    186.910907      0.494901   \n",
              "min       17.00000      0.000000      1.000000      0.000000      0.000000   \n",
              "25%       32.00000    102.000000      1.000000    999.000000      0.000000   \n",
              "50%       38.00000    180.000000      2.000000    999.000000      0.000000   \n",
              "75%       47.00000    319.000000      3.000000    999.000000      0.000000   \n",
              "max       98.00000   4918.000000     56.000000    999.000000      7.000000   \n",
              "\n",
              "       emp.var.rate  cons.price.idx  cons.conf.idx     euribor3m   nr.employed  \n",
              "count  41188.000000    41188.000000   41188.000000  41188.000000  41188.000000  \n",
              "mean       0.081886       93.575664     -40.502600      3.621291   5167.035911  \n",
              "std        1.570960        0.578840       4.628198      1.734447     72.251528  \n",
              "min       -3.400000       92.201000     -50.800000      0.634000   4963.600000  \n",
              "25%       -1.800000       93.075000     -42.700000      1.344000   5099.100000  \n",
              "50%        1.100000       93.749000     -41.800000      4.857000   5191.000000  \n",
              "75%        1.400000       93.994000     -36.400000      4.961000   5228.100000  \n",
              "max        1.400000       94.767000     -26.900000      5.045000   5228.100000  "
            ],
            "text/html": [
              "\n",
              "  <div id=\"df-7a2ec0e4-e1d6-4042-97f5-2e29e121e6be\">\n",
              "    <div class=\"colab-df-container\">\n",
              "      <div>\n",
              "<style scoped>\n",
              "    .dataframe tbody tr th:only-of-type {\n",
              "        vertical-align: middle;\n",
              "    }\n",
              "\n",
              "    .dataframe tbody tr th {\n",
              "        vertical-align: top;\n",
              "    }\n",
              "\n",
              "    .dataframe thead th {\n",
              "        text-align: right;\n",
              "    }\n",
              "</style>\n",
              "<table border=\"1\" class=\"dataframe\">\n",
              "  <thead>\n",
              "    <tr style=\"text-align: right;\">\n",
              "      <th></th>\n",
              "      <th>age</th>\n",
              "      <th>duration</th>\n",
              "      <th>campaign</th>\n",
              "      <th>pdays</th>\n",
              "      <th>previous</th>\n",
              "      <th>emp.var.rate</th>\n",
              "      <th>cons.price.idx</th>\n",
              "      <th>cons.conf.idx</th>\n",
              "      <th>euribor3m</th>\n",
              "      <th>nr.employed</th>\n",
              "    </tr>\n",
              "  </thead>\n",
              "  <tbody>\n",
              "    <tr>\n",
              "      <th>count</th>\n",
              "      <td>41188.00000</td>\n",
              "      <td>41188.000000</td>\n",
              "      <td>41188.000000</td>\n",
              "      <td>41188.000000</td>\n",
              "      <td>41188.000000</td>\n",
              "      <td>41188.000000</td>\n",
              "      <td>41188.000000</td>\n",
              "      <td>41188.000000</td>\n",
              "      <td>41188.000000</td>\n",
              "      <td>41188.000000</td>\n",
              "    </tr>\n",
              "    <tr>\n",
              "      <th>mean</th>\n",
              "      <td>40.02406</td>\n",
              "      <td>258.285010</td>\n",
              "      <td>2.567593</td>\n",
              "      <td>962.475454</td>\n",
              "      <td>0.172963</td>\n",
              "      <td>0.081886</td>\n",
              "      <td>93.575664</td>\n",
              "      <td>-40.502600</td>\n",
              "      <td>3.621291</td>\n",
              "      <td>5167.035911</td>\n",
              "    </tr>\n",
              "    <tr>\n",
              "      <th>std</th>\n",
              "      <td>10.42125</td>\n",
              "      <td>259.279249</td>\n",
              "      <td>2.770014</td>\n",
              "      <td>186.910907</td>\n",
              "      <td>0.494901</td>\n",
              "      <td>1.570960</td>\n",
              "      <td>0.578840</td>\n",
              "      <td>4.628198</td>\n",
              "      <td>1.734447</td>\n",
              "      <td>72.251528</td>\n",
              "    </tr>\n",
              "    <tr>\n",
              "      <th>min</th>\n",
              "      <td>17.00000</td>\n",
              "      <td>0.000000</td>\n",
              "      <td>1.000000</td>\n",
              "      <td>0.000000</td>\n",
              "      <td>0.000000</td>\n",
              "      <td>-3.400000</td>\n",
              "      <td>92.201000</td>\n",
              "      <td>-50.800000</td>\n",
              "      <td>0.634000</td>\n",
              "      <td>4963.600000</td>\n",
              "    </tr>\n",
              "    <tr>\n",
              "      <th>25%</th>\n",
              "      <td>32.00000</td>\n",
              "      <td>102.000000</td>\n",
              "      <td>1.000000</td>\n",
              "      <td>999.000000</td>\n",
              "      <td>0.000000</td>\n",
              "      <td>-1.800000</td>\n",
              "      <td>93.075000</td>\n",
              "      <td>-42.700000</td>\n",
              "      <td>1.344000</td>\n",
              "      <td>5099.100000</td>\n",
              "    </tr>\n",
              "    <tr>\n",
              "      <th>50%</th>\n",
              "      <td>38.00000</td>\n",
              "      <td>180.000000</td>\n",
              "      <td>2.000000</td>\n",
              "      <td>999.000000</td>\n",
              "      <td>0.000000</td>\n",
              "      <td>1.100000</td>\n",
              "      <td>93.749000</td>\n",
              "      <td>-41.800000</td>\n",
              "      <td>4.857000</td>\n",
              "      <td>5191.000000</td>\n",
              "    </tr>\n",
              "    <tr>\n",
              "      <th>75%</th>\n",
              "      <td>47.00000</td>\n",
              "      <td>319.000000</td>\n",
              "      <td>3.000000</td>\n",
              "      <td>999.000000</td>\n",
              "      <td>0.000000</td>\n",
              "      <td>1.400000</td>\n",
              "      <td>93.994000</td>\n",
              "      <td>-36.400000</td>\n",
              "      <td>4.961000</td>\n",
              "      <td>5228.100000</td>\n",
              "    </tr>\n",
              "    <tr>\n",
              "      <th>max</th>\n",
              "      <td>98.00000</td>\n",
              "      <td>4918.000000</td>\n",
              "      <td>56.000000</td>\n",
              "      <td>999.000000</td>\n",
              "      <td>7.000000</td>\n",
              "      <td>1.400000</td>\n",
              "      <td>94.767000</td>\n",
              "      <td>-26.900000</td>\n",
              "      <td>5.045000</td>\n",
              "      <td>5228.100000</td>\n",
              "    </tr>\n",
              "  </tbody>\n",
              "</table>\n",
              "</div>\n",
              "      <button class=\"colab-df-convert\" onclick=\"convertToInteractive('df-7a2ec0e4-e1d6-4042-97f5-2e29e121e6be')\"\n",
              "              title=\"Convert this dataframe to an interactive table.\"\n",
              "              style=\"display:none;\">\n",
              "        \n",
              "  <svg xmlns=\"http://www.w3.org/2000/svg\" height=\"24px\"viewBox=\"0 0 24 24\"\n",
              "       width=\"24px\">\n",
              "    <path d=\"M0 0h24v24H0V0z\" fill=\"none\"/>\n",
              "    <path d=\"M18.56 5.44l.94 2.06.94-2.06 2.06-.94-2.06-.94-.94-2.06-.94 2.06-2.06.94zm-11 1L8.5 8.5l.94-2.06 2.06-.94-2.06-.94L8.5 2.5l-.94 2.06-2.06.94zm10 10l.94 2.06.94-2.06 2.06-.94-2.06-.94-.94-2.06-.94 2.06-2.06.94z\"/><path d=\"M17.41 7.96l-1.37-1.37c-.4-.4-.92-.59-1.43-.59-.52 0-1.04.2-1.43.59L10.3 9.45l-7.72 7.72c-.78.78-.78 2.05 0 2.83L4 21.41c.39.39.9.59 1.41.59.51 0 1.02-.2 1.41-.59l7.78-7.78 2.81-2.81c.8-.78.8-2.07 0-2.86zM5.41 20L4 18.59l7.72-7.72 1.47 1.35L5.41 20z\"/>\n",
              "  </svg>\n",
              "      </button>\n",
              "      \n",
              "  <style>\n",
              "    .colab-df-container {\n",
              "      display:flex;\n",
              "      flex-wrap:wrap;\n",
              "      gap: 12px;\n",
              "    }\n",
              "\n",
              "    .colab-df-convert {\n",
              "      background-color: #E8F0FE;\n",
              "      border: none;\n",
              "      border-radius: 50%;\n",
              "      cursor: pointer;\n",
              "      display: none;\n",
              "      fill: #1967D2;\n",
              "      height: 32px;\n",
              "      padding: 0 0 0 0;\n",
              "      width: 32px;\n",
              "    }\n",
              "\n",
              "    .colab-df-convert:hover {\n",
              "      background-color: #E2EBFA;\n",
              "      box-shadow: 0px 1px 2px rgba(60, 64, 67, 0.3), 0px 1px 3px 1px rgba(60, 64, 67, 0.15);\n",
              "      fill: #174EA6;\n",
              "    }\n",
              "\n",
              "    [theme=dark] .colab-df-convert {\n",
              "      background-color: #3B4455;\n",
              "      fill: #D2E3FC;\n",
              "    }\n",
              "\n",
              "    [theme=dark] .colab-df-convert:hover {\n",
              "      background-color: #434B5C;\n",
              "      box-shadow: 0px 1px 3px 1px rgba(0, 0, 0, 0.15);\n",
              "      filter: drop-shadow(0px 1px 2px rgba(0, 0, 0, 0.3));\n",
              "      fill: #FFFFFF;\n",
              "    }\n",
              "  </style>\n",
              "\n",
              "      <script>\n",
              "        const buttonEl =\n",
              "          document.querySelector('#df-7a2ec0e4-e1d6-4042-97f5-2e29e121e6be button.colab-df-convert');\n",
              "        buttonEl.style.display =\n",
              "          google.colab.kernel.accessAllowed ? 'block' : 'none';\n",
              "\n",
              "        async function convertToInteractive(key) {\n",
              "          const element = document.querySelector('#df-7a2ec0e4-e1d6-4042-97f5-2e29e121e6be');\n",
              "          const dataTable =\n",
              "            await google.colab.kernel.invokeFunction('convertToInteractive',\n",
              "                                                     [key], {});\n",
              "          if (!dataTable) return;\n",
              "\n",
              "          const docLinkHtml = 'Like what you see? Visit the ' +\n",
              "            '<a target=\"_blank\" href=https://colab.research.google.com/notebooks/data_table.ipynb>data table notebook</a>'\n",
              "            + ' to learn more about interactive tables.';\n",
              "          element.innerHTML = '';\n",
              "          dataTable['output_type'] = 'display_data';\n",
              "          await google.colab.output.renderOutput(dataTable, element);\n",
              "          const docLink = document.createElement('div');\n",
              "          docLink.innerHTML = docLinkHtml;\n",
              "          element.appendChild(docLink);\n",
              "        }\n",
              "      </script>\n",
              "    </div>\n",
              "  </div>\n",
              "  "
            ]
          },
          "metadata": {},
          "execution_count": 985
        }
      ]
    },
    {
      "cell_type": "markdown",
      "source": [
        "Using Describe helps us to understand the data in much better sense, we can now see the range, means, standard deviations, max-min and percentiles of the data, which helps us make better sense of the data.\n",
        "\n",
        "As we can see from above that the data ranges of the columns are vastly different (ie: nr.employed mean 5167.035911 and emp.var.rate mean 0.081886). So to mprove the quality of our data we need to normalize it."
      ],
      "metadata": {
        "id": "dKZkyCvCurwF"
      }
    },
    {
      "cell_type": "code",
      "source": [
        "data.count()"
      ],
      "metadata": {
        "colab": {
          "base_uri": "https://localhost:8080/"
        },
        "id": "AtFZKo2HbpkJ",
        "outputId": "e4ad11bb-f49b-4c3f-ff99-e3798e9a35ef"
      },
      "execution_count": 986,
      "outputs": [
        {
          "output_type": "execute_result",
          "data": {
            "text/plain": [
              "age               41188\n",
              "job               41188\n",
              "marital           41188\n",
              "education         41188\n",
              "default           41188\n",
              "housing           41188\n",
              "loan              41188\n",
              "contact           41188\n",
              "month             41188\n",
              "day_of_week       41188\n",
              "duration          41188\n",
              "campaign          41188\n",
              "pdays             41188\n",
              "previous          41188\n",
              "poutcome          41188\n",
              "emp.var.rate      41188\n",
              "cons.price.idx    41188\n",
              "cons.conf.idx     41188\n",
              "euribor3m         41188\n",
              "nr.employed       41188\n",
              "y                 41188\n",
              "dtype: int64"
            ]
          },
          "metadata": {},
          "execution_count": 986
        }
      ]
    },
    {
      "cell_type": "markdown",
      "source": [
        "Are there missing values?"
      ],
      "metadata": {
        "id": "-ALzoQPQOR6z"
      }
    },
    {
      "cell_type": "code",
      "source": [
        "# We need to check missing values in dataset\n",
        "data.isnull().sum()"
      ],
      "metadata": {
        "colab": {
          "base_uri": "https://localhost:8080/"
        },
        "id": "6_yCrJ65NcjF",
        "outputId": "dd967bc8-1760-4e96-e138-078c1768da09"
      },
      "execution_count": 987,
      "outputs": [
        {
          "output_type": "execute_result",
          "data": {
            "text/plain": [
              "age               0\n",
              "job               0\n",
              "marital           0\n",
              "education         0\n",
              "default           0\n",
              "housing           0\n",
              "loan              0\n",
              "contact           0\n",
              "month             0\n",
              "day_of_week       0\n",
              "duration          0\n",
              "campaign          0\n",
              "pdays             0\n",
              "previous          0\n",
              "poutcome          0\n",
              "emp.var.rate      0\n",
              "cons.price.idx    0\n",
              "cons.conf.idx     0\n",
              "euribor3m         0\n",
              "nr.employed       0\n",
              "y                 0\n",
              "dtype: int64"
            ]
          },
          "metadata": {},
          "execution_count": 987
        }
      ]
    },
    {
      "cell_type": "code",
      "source": [
        "# We need to check missing values in dataset\n",
        "data.isna().sum()"
      ],
      "metadata": {
        "colab": {
          "base_uri": "https://localhost:8080/"
        },
        "id": "xVUTmQ-l1uiz",
        "outputId": "4d02a75a-ef4a-45ad-a9c2-e2987dd0574f"
      },
      "execution_count": 988,
      "outputs": [
        {
          "output_type": "execute_result",
          "data": {
            "text/plain": [
              "age               0\n",
              "job               0\n",
              "marital           0\n",
              "education         0\n",
              "default           0\n",
              "housing           0\n",
              "loan              0\n",
              "contact           0\n",
              "month             0\n",
              "day_of_week       0\n",
              "duration          0\n",
              "campaign          0\n",
              "pdays             0\n",
              "previous          0\n",
              "poutcome          0\n",
              "emp.var.rate      0\n",
              "cons.price.idx    0\n",
              "cons.conf.idx     0\n",
              "euribor3m         0\n",
              "nr.employed       0\n",
              "y                 0\n",
              "dtype: int64"
            ]
          },
          "metadata": {},
          "execution_count": 988
        }
      ]
    },
    {
      "cell_type": "markdown",
      "source": [
        "isnull():\n",
        "This function takes a scalar or array-like object and indicates whether values are missing. And we can see that there are no Null values in our dataset.\n",
        "\n"
      ],
      "metadata": {
        "id": "8OtDCAGZyU6c"
      }
    },
    {
      "cell_type": "code",
      "source": [
        "# To check duplicated values \n",
        "print(data.duplicated().value_counts()) "
      ],
      "metadata": {
        "colab": {
          "base_uri": "https://localhost:8080/"
        },
        "id": "e-2ceWxhLT0_",
        "outputId": "031e2e7e-1aee-47d5-8fdf-001d9b4490dd"
      },
      "execution_count": 989,
      "outputs": [
        {
          "output_type": "stream",
          "name": "stdout",
          "text": [
            "False    41176\n",
            "True        12\n",
            "dtype: int64\n"
          ]
        }
      ]
    },
    {
      "cell_type": "markdown",
      "source": [
        "Checking for duplicate values and droping them."
      ],
      "metadata": {
        "id": "x1fo081z0Zro"
      }
    },
    {
      "cell_type": "code",
      "source": [
        "data = data.drop_duplicates()"
      ],
      "metadata": {
        "id": "NpIxP2WXL8YG"
      },
      "execution_count": 990,
      "outputs": []
    },
    {
      "cell_type": "code",
      "source": [
        "# To check duplicated values \n",
        "print(data.duplicated().value_counts()) "
      ],
      "metadata": {
        "colab": {
          "base_uri": "https://localhost:8080/"
        },
        "id": "6sH5ioSTL-fP",
        "outputId": "8850a456-597c-4371-90f7-af577c10d7b5"
      },
      "execution_count": 991,
      "outputs": [
        {
          "output_type": "stream",
          "name": "stdout",
          "text": [
            "False    41176\n",
            "dtype: int64\n"
          ]
        }
      ]
    },
    {
      "cell_type": "code",
      "source": [
        "# Lets count numbers of row for 'y' type\n",
        "data.groupby(\"y\").size()"
      ],
      "metadata": {
        "colab": {
          "base_uri": "https://localhost:8080/"
        },
        "id": "L7hIAf5ZN2FT",
        "outputId": "8fa061e0-0ca9-4c9b-b656-633c2735b158"
      },
      "execution_count": 992,
      "outputs": [
        {
          "output_type": "execute_result",
          "data": {
            "text/plain": [
              "y\n",
              "no     36537\n",
              "yes     4639\n",
              "dtype: int64"
            ]
          },
          "metadata": {},
          "execution_count": 992
        }
      ]
    },
    {
      "cell_type": "code",
      "source": [
        "data['y'].value_counts()/data.shape[0]"
      ],
      "metadata": {
        "colab": {
          "base_uri": "https://localhost:8080/"
        },
        "id": "pn0b5JiON8m_",
        "outputId": "66f3f850-2851-4593-d0f0-133736fb19c7"
      },
      "execution_count": 993,
      "outputs": [
        {
          "output_type": "execute_result",
          "data": {
            "text/plain": [
              "no     0.887337\n",
              "yes    0.112663\n",
              "Name: y, dtype: float64"
            ]
          },
          "metadata": {},
          "execution_count": 993
        }
      ]
    },
    {
      "cell_type": "code",
      "source": [
        "plt.figure(figsize=(12,5))\n",
        "plt.subplot(1,2,1)\n",
        "sns.countplot(x='y',data=data)\n",
        "plt.title(\"Is Y Yes and No\")\n",
        "plt.subplot(1,2,2)\n",
        "labels =data['y'].value_counts(sort = True).index\n",
        "sizes = data['y'].value_counts(sort = True)\n",
        "plt.pie(sizes,labels=labels,autopct='%1.1f%%', shadow=True, startangle=270,)\n",
        "plt.title('Yes and No categ',size = 12)\n",
        "plt.show()\n"
      ],
      "metadata": {
        "colab": {
          "base_uri": "https://localhost:8080/",
          "height": 345
        },
        "id": "Zn5X5bb7OAJN",
        "outputId": "7bb87b9d-5559-4722-f143-b46750288973"
      },
      "execution_count": 994,
      "outputs": [
        {
          "output_type": "display_data",
          "data": {
            "text/plain": [
              "<Figure size 864x360 with 2 Axes>"
            ],
            "image/png": "[encoded data removed]"
          },
          "metadata": {}
        }
      ]
    },
    {
      "cell_type": "markdown",
      "source": [
        "What are the likely distributions of the numeric variables?\n",
        "\n",
        "From below we can observe the likely distributions of all the numeric variables."
      ],
      "metadata": {
        "id": "WsBlEwd0Om4C"
      }
    },
    {
      "cell_type": "code",
      "source": [
        "plt.style.use('seaborn-whitegrid')\n",
        "\n",
        "data.hist(bins=20, figsize=(14,10), color='#069EE1')\n",
        "plt.show();"
      ],
      "metadata": {
        "colab": {
          "base_uri": "https://localhost:8080/",
          "height": 603
        },
        "id": "za5N0pLYOSJo",
        "outputId": "9b7f5558-e42c-4243-e9f4-bab746863167"
      },
      "execution_count": 995,
      "outputs": [
        {
          "output_type": "display_data",
          "data": {
            "text/plain": [
              "<Figure size 1008x720 with 12 Axes>"
            ],
            "image/png": "[encoded data removed]"
          },
          "metadata": {}
        }
      ]
    },
    {
      "cell_type": "code",
      "source": [
        "def countplot_features(df_train, feature, title):          \n",
        "    #plt.figure(figsize = (15, 7))\n",
        "    sns.countplot(df_train[feature], color = '#069EE1')\n",
        "    plt.title(title, fontsize=15)\n",
        "    plt.xticks(rotation=45)\n",
        "    plt.show();\n",
        "countplot_features(data, 'job', 'job')\n",
        "countplot_features(data, 'marital', 'marital status')\n",
        "countplot_features(data, 'education', 'education')\n",
        "countplot_features(data, 'default', 'default')\n",
        "countplot_features(data, 'housing', 'housing')\n",
        "countplot_features(data, 'loan', 'loan')\n",
        "countplot_features(data, 'contact', 'contact')\n",
        "countplot_features(data, 'month', 'month')\n",
        "countplot_features(data, 'day_of_week', 'day_of_week')\n",
        "countplot_features(data, 'poutcome', 'poutcome')"
      ],
      "metadata": {
        "colab": {
          "base_uri": "https://localhost:8080/",
          "height": 1000
        },
        "id": "JQwQHHmVwXnE",
        "outputId": "b0bab5f7-a5f4-40c9-8ba8-0e50cf6822fd"
      },
      "execution_count": 996,
      "outputs": [
        {
          "output_type": "display_data",
          "data": {
            "text/plain": [
              "<Figure size 432x288 with 1 Axes>"
            ],
            "image/png": "[encoded data removed]"
          },
          "metadata": {}
        },
        {
          "output_type": "display_data",
          "data": {
            "text/plain": [
              "<Figure size 432x288 with 1 Axes>"
            ],
            "image/png": "[encoded data removed]"
          },
          "metadata": {}
        },
        {
          "output_type": "display_data",
          "data": {
            "text/plain": [
              "<Figure size 432x288 with 1 Axes>"
            ],
            "image/png": "[encoded data removed]"
          },
          "metadata": {}
        },
        {
          "output_type": "display_data",
          "data": {
            "text/plain": [
              "<Figure size 432x288 with 1 Axes>"
            ],
            "image/png": "[encoded data removed]"
          },
          "metadata": {}
        },
        {
          "output_type": "display_data",
          "data": {
            "text/plain": [
              "<Figure size 432x288 with 1 Axes>"
            ],
            "image/png": "[encoded data removed]"
          },
          "metadata": {}
        },
        {
          "output_type": "display_data",
          "data": {
            "text/plain": [
              "<Figure size 432x288 with 1 Axes>"
            ],
            "image/png": "[encoded data removed]"
          },
          "metadata": {}
        },
        {
          "output_type": "display_data",
          "data": {
            "text/plain": [
              "<Figure size 432x288 with 1 Axes>"
            ],
            "image/png": "[encoded data removed]"
          },
          "metadata": {}
        },
        {
          "output_type": "display_data",
          "data": {
            "text/plain": [
              "<Figure size 432x288 with 1 Axes>"
            ],
            "image/png": "[encoded data removed]"
          },
          "metadata": {}
        },
        {
          "output_type": "display_data",
          "data": {
            "text/plain": [
              "<Figure size 432x288 with 1 Axes>"
            ],
            "image/png": "[encoded data removed]"
          },
          "metadata": {}
        },
        {
          "output_type": "display_data",
          "data": {
            "text/plain": [
              "<Figure size 432x288 with 1 Axes>"
            ],
            "image/png": "[encoded data removed]"
          },
          "metadata": {}
        }
      ]
    },
    {
      "cell_type": "code",
      "source": [
        "drop_list = [\"day_of_week\",\"contact\"]\n",
        "data.drop(drop_list,axis=1,inplace=True)"
      ],
      "metadata": {
        "id": "R4w6QIFmG7lD"
      },
      "execution_count": 997,
      "outputs": []
    },
    {
      "cell_type": "code",
      "source": [
        "#Using Pearson Correlation\n",
        "plt.figure(figsize=(12,10))\n",
        "cor = data.corr()\n",
        "sns.heatmap(cor)\n",
        "plt.show()"
      ],
      "metadata": {
        "colab": {
          "base_uri": "https://localhost:8080/",
          "height": 643
        },
        "id": "U62wsmi5cYjK",
        "outputId": "610a44ba-7761-4940-90bc-717c4f34a2de"
      },
      "execution_count": 998,
      "outputs": [
        {
          "output_type": "display_data",
          "data": {
            "text/plain": [
              "<Figure size 864x720 with 2 Axes>"
            ],
            "image/png": "[encoded data removed]"
          },
          "metadata": {}
        }
      ]
    },
    {
      "cell_type": "code",
      "source": [
        "corr = data.corr()\n",
        "corr_greater_than_75 = corr[corr>=.75]\n",
        "corr_greater_than_75"
      ],
      "metadata": {
        "colab": {
          "base_uri": "https://localhost:8080/",
          "height": 363
        },
        "id": "DZilHAinrBZK",
        "outputId": "7e06387d-7596-4a3a-c241-5310dd3bc072"
      },
      "execution_count": 999,
      "outputs": [
        {
          "output_type": "execute_result",
          "data": {
            "text/plain": [
              "                age  duration  campaign  pdays  previous  emp.var.rate  \\\n",
              "age             1.0       NaN       NaN    NaN       NaN           NaN   \n",
              "duration        NaN       1.0       NaN    NaN       NaN           NaN   \n",
              "campaign        NaN       NaN       1.0    NaN       NaN           NaN   \n",
              "pdays           NaN       NaN       NaN    1.0       NaN           NaN   \n",
              "previous        NaN       NaN       NaN    NaN       1.0           NaN   \n",
              "emp.var.rate    NaN       NaN       NaN    NaN       NaN      1.000000   \n",
              "cons.price.idx  NaN       NaN       NaN    NaN       NaN      0.775293   \n",
              "cons.conf.idx   NaN       NaN       NaN    NaN       NaN           NaN   \n",
              "euribor3m       NaN       NaN       NaN    NaN       NaN      0.972244   \n",
              "nr.employed     NaN       NaN       NaN    NaN       NaN      0.906949   \n",
              "\n",
              "                cons.price.idx  cons.conf.idx  euribor3m  nr.employed  \n",
              "age                        NaN            NaN        NaN          NaN  \n",
              "duration                   NaN            NaN        NaN          NaN  \n",
              "campaign                   NaN            NaN        NaN          NaN  \n",
              "pdays                      NaN            NaN        NaN          NaN  \n",
              "previous                   NaN            NaN        NaN          NaN  \n",
              "emp.var.rate          0.775293            NaN   0.972244     0.906949  \n",
              "cons.price.idx        1.000000            NaN        NaN          NaN  \n",
              "cons.conf.idx              NaN            1.0        NaN          NaN  \n",
              "euribor3m                  NaN            NaN   1.000000     0.945146  \n",
              "nr.employed                NaN            NaN   0.945146     1.000000  "
            ],
            "text/html": [
              "\n",
              "  <div id=\"df-aec9c269-5f18-4729-9fbc-82ec2f163724\">\n",
              "    <div class=\"colab-df-container\">\n",
              "      <div>\n",
              "<style scoped>\n",
              "    .dataframe tbody tr th:only-of-type {\n",
              "        vertical-align: middle;\n",
              "    }\n",
              "\n",
              "    .dataframe tbody tr th {\n",
              "        vertical-align: top;\n",
              "    }\n",
              "\n",
              "    .dataframe thead th {\n",
              "        text-align: right;\n",
              "    }\n",
              "</style>\n",
              "<table border=\"1\" class=\"dataframe\">\n",
              "  <thead>\n",
              "    <tr style=\"text-align: right;\">\n",
              "      <th></th>\n",
              "      <th>age</th>\n",
              "      <th>duration</th>\n",
              "      <th>campaign</th>\n",
              "      <th>pdays</th>\n",
              "      <th>previous</th>\n",
              "      <th>emp.var.rate</th>\n",
              "      <th>cons.price.idx</th>\n",
              "      <th>cons.conf.idx</th>\n",
              "      <th>euribor3m</th>\n",
              "      <th>nr.employed</th>\n",
              "    </tr>\n",
              "  </thead>\n",
              "  <tbody>\n",
              "    <tr>\n",
              "      <th>age</th>\n",
              "      <td>1.0</td>\n",
              "      <td>NaN</td>\n",
              "      <td>NaN</td>\n",
              "      <td>NaN</td>\n",
              "      <td>NaN</td>\n",
              "      <td>NaN</td>\n",
              "      <td>NaN</td>\n",
              "      <td>NaN</td>\n",
              "      <td>NaN</td>\n",
              "      <td>NaN</td>\n",
              "    </tr>\n",
              "    <tr>\n",
              "      <th>duration</th>\n",
              "      <td>NaN</td>\n",
              "      <td>1.0</td>\n",
              "      <td>NaN</td>\n",
              "      <td>NaN</td>\n",
              "      <td>NaN</td>\n",
              "      <td>NaN</td>\n",
              "      <td>NaN</td>\n",
              "      <td>NaN</td>\n",
              "      <td>NaN</td>\n",
              "      <td>NaN</td>\n",
              "    </tr>\n",
              "    <tr>\n",
              "      <th>campaign</th>\n",
              "      <td>NaN</td>\n",
              "      <td>NaN</td>\n",
              "      <td>1.0</td>\n",
              "      <td>NaN</td>\n",
              "      <td>NaN</td>\n",
              "      <td>NaN</td>\n",
              "      <td>NaN</td>\n",
              "      <td>NaN</td>\n",
              "      <td>NaN</td>\n",
              "      <td>NaN</td>\n",
              "    </tr>\n",
              "    <tr>\n",
              "      <th>pdays</th>\n",
              "      <td>NaN</td>\n",
              "      <td>NaN</td>\n",
              "      <td>NaN</td>\n",
              "      <td>1.0</td>\n",
              "      <td>NaN</td>\n",
              "      <td>NaN</td>\n",
              "      <td>NaN</td>\n",
              "      <td>NaN</td>\n",
              "      <td>NaN</td>\n",
              "      <td>NaN</td>\n",
              "    </tr>\n",
              "    <tr>\n",
              "      <th>previous</th>\n",
              "      <td>NaN</td>\n",
              "      <td>NaN</td>\n",
              "      <td>NaN</td>\n",
              "      <td>NaN</td>\n",
              "      <td>1.0</td>\n",
              "      <td>NaN</td>\n",
              "      <td>NaN</td>\n",
              "      <td>NaN</td>\n",
              "      <td>NaN</td>\n",
              "      <td>NaN</td>\n",
              "    </tr>\n",
              "    <tr>\n",
              "      <th>emp.var.rate</th>\n",
              "      <td>NaN</td>\n",
              "      <td>NaN</td>\n",
              "      <td>NaN</td>\n",
              "      <td>NaN</td>\n",
              "      <td>NaN</td>\n",
              "      <td>1.000000</td>\n",
              "      <td>0.775293</td>\n",
              "      <td>NaN</td>\n",
              "      <td>0.972244</td>\n",
              "      <td>0.906949</td>\n",
              "    </tr>\n",
              "    <tr>\n",
              "      <th>cons.price.idx</th>\n",
              "      <td>NaN</td>\n",
              "      <td>NaN</td>\n",
              "      <td>NaN</td>\n",
              "      <td>NaN</td>\n",
              "      <td>NaN</td>\n",
              "      <td>0.775293</td>\n",
              "      <td>1.000000</td>\n",
              "      <td>NaN</td>\n",
              "      <td>NaN</td>\n",
              "      <td>NaN</td>\n",
              "    </tr>\n",
              "    <tr>\n",
              "      <th>cons.conf.idx</th>\n",
              "      <td>NaN</td>\n",
              "      <td>NaN</td>\n",
              "      <td>NaN</td>\n",
              "      <td>NaN</td>\n",
              "      <td>NaN</td>\n",
              "      <td>NaN</td>\n",
              "      <td>NaN</td>\n",
              "      <td>1.0</td>\n",
              "      <td>NaN</td>\n",
              "      <td>NaN</td>\n",
              "    </tr>\n",
              "    <tr>\n",
              "      <th>euribor3m</th>\n",
              "      <td>NaN</td>\n",
              "      <td>NaN</td>\n",
              "      <td>NaN</td>\n",
              "      <td>NaN</td>\n",
              "      <td>NaN</td>\n",
              "      <td>0.972244</td>\n",
              "      <td>NaN</td>\n",
              "      <td>NaN</td>\n",
              "      <td>1.000000</td>\n",
              "      <td>0.945146</td>\n",
              "    </tr>\n",
              "    <tr>\n",
              "      <th>nr.employed</th>\n",
              "      <td>NaN</td>\n",
              "      <td>NaN</td>\n",
              "      <td>NaN</td>\n",
              "      <td>NaN</td>\n",
              "      <td>NaN</td>\n",
              "      <td>0.906949</td>\n",
              "      <td>NaN</td>\n",
              "      <td>NaN</td>\n",
              "      <td>0.945146</td>\n",
              "      <td>1.000000</td>\n",
              "    </tr>\n",
              "  </tbody>\n",
              "</table>\n",
              "</div>\n",
              "      <button class=\"colab-df-convert\" onclick=\"convertToInteractive('df-aec9c269-5f18-4729-9fbc-82ec2f163724')\"\n",
              "              title=\"Convert this dataframe to an interactive table.\"\n",
              "              style=\"display:none;\">\n",
              "        \n",
              "  <svg xmlns=\"http://www.w3.org/2000/svg\" height=\"24px\"viewBox=\"0 0 24 24\"\n",
              "       width=\"24px\">\n",
              "    <path d=\"M0 0h24v24H0V0z\" fill=\"none\"/>\n",
              "    <path d=\"M18.56 5.44l.94 2.06.94-2.06 2.06-.94-2.06-.94-.94-2.06-.94 2.06-2.06.94zm-11 1L8.5 8.5l.94-2.06 2.06-.94-2.06-.94L8.5 2.5l-.94 2.06-2.06.94zm10 10l.94 2.06.94-2.06 2.06-.94-2.06-.94-.94-2.06-.94 2.06-2.06.94z\"/><path d=\"M17.41 7.96l-1.37-1.37c-.4-.4-.92-.59-1.43-.59-.52 0-1.04.2-1.43.59L10.3 9.45l-7.72 7.72c-.78.78-.78 2.05 0 2.83L4 21.41c.39.39.9.59 1.41.59.51 0 1.02-.2 1.41-.59l7.78-7.78 2.81-2.81c.8-.78.8-2.07 0-2.86zM5.41 20L4 18.59l7.72-7.72 1.47 1.35L5.41 20z\"/>\n",
              "  </svg>\n",
              "      </button>\n",
              "      \n",
              "  <style>\n",
              "    .colab-df-container {\n",
              "      display:flex;\n",
              "      flex-wrap:wrap;\n",
              "      gap: 12px;\n",
              "    }\n",
              "\n",
              "    .colab-df-convert {\n",
              "      background-color: #E8F0FE;\n",
              "      border: none;\n",
              "      border-radius: 50%;\n",
              "      cursor: pointer;\n",
              "      display: none;\n",
              "      fill: #1967D2;\n",
              "      height: 32px;\n",
              "      padding: 0 0 0 0;\n",
              "      width: 32px;\n",
              "    }\n",
              "\n",
              "    .colab-df-convert:hover {\n",
              "      background-color: #E2EBFA;\n",
              "      box-shadow: 0px 1px 2px rgba(60, 64, 67, 0.3), 0px 1px 3px 1px rgba(60, 64, 67, 0.15);\n",
              "      fill: #174EA6;\n",
              "    }\n",
              "\n",
              "    [theme=dark] .colab-df-convert {\n",
              "      background-color: #3B4455;\n",
              "      fill: #D2E3FC;\n",
              "    }\n",
              "\n",
              "    [theme=dark] .colab-df-convert:hover {\n",
              "      background-color: #434B5C;\n",
              "      box-shadow: 0px 1px 3px 1px rgba(0, 0, 0, 0.15);\n",
              "      filter: drop-shadow(0px 1px 2px rgba(0, 0, 0, 0.3));\n",
              "      fill: #FFFFFF;\n",
              "    }\n",
              "  </style>\n",
              "\n",
              "      <script>\n",
              "        const buttonEl =\n",
              "          document.querySelector('#df-aec9c269-5f18-4729-9fbc-82ec2f163724 button.colab-df-convert');\n",
              "        buttonEl.style.display =\n",
              "          google.colab.kernel.accessAllowed ? 'block' : 'none';\n",
              "\n",
              "        async function convertToInteractive(key) {\n",
              "          const element = document.querySelector('#df-aec9c269-5f18-4729-9fbc-82ec2f163724');\n",
              "          const dataTable =\n",
              "            await google.colab.kernel.invokeFunction('convertToInteractive',\n",
              "                                                     [key], {});\n",
              "          if (!dataTable) return;\n",
              "\n",
              "          const docLinkHtml = 'Like what you see? Visit the ' +\n",
              "            '<a target=\"_blank\" href=https://colab.research.google.com/notebooks/data_table.ipynb>data table notebook</a>'\n",
              "            + ' to learn more about interactive tables.';\n",
              "          element.innerHTML = '';\n",
              "          dataTable['output_type'] = 'display_data';\n",
              "          await google.colab.output.renderOutput(dataTable, element);\n",
              "          const docLink = document.createElement('div');\n",
              "          docLink.innerHTML = docLinkHtml;\n",
              "          element.appendChild(docLink);\n",
              "        }\n",
              "      </script>\n",
              "    </div>\n",
              "  </div>\n",
              "  "
            ]
          },
          "metadata": {},
          "execution_count": 999
        }
      ]
    },
    {
      "cell_type": "code",
      "source": [
        "# Label encoder order is alphabetical\n",
        "from sklearn.preprocessing import LabelEncoder\n",
        "labelencoder_X = LabelEncoder()\n",
        "data['job']      = labelencoder_X.fit_transform(data['job']) \n",
        "data['marital']  = labelencoder_X.fit_transform(data['marital']) \n",
        "data['education']= labelencoder_X.fit_transform(data['education']) \n",
        "data['default']  = labelencoder_X.fit_transform(data['default']) \n",
        "data['housing']  = labelencoder_X.fit_transform(data['housing']) \n",
        "data['loan']     = labelencoder_X.fit_transform(data['loan']) \n",
        "data['month']     = labelencoder_X.fit_transform(data['month']) \n",
        "data['poutcome']     = labelencoder_X.fit_transform(data['poutcome'])\n",
        "data['y']     = labelencoder_X.fit_transform(data['y'])"
      ],
      "metadata": {
        "id": "V5XBLUKJsvfH"
      },
      "execution_count": 1000,
      "outputs": []
    },
    {
      "cell_type": "code",
      "source": [
        "data['age'].max()"
      ],
      "metadata": {
        "colab": {
          "base_uri": "https://localhost:8080/"
        },
        "id": "0aAPumdQtWTv",
        "outputId": "59b25628-bd14-4000-f984-d389d3a3bc9a"
      },
      "execution_count": 1001,
      "outputs": [
        {
          "output_type": "execute_result",
          "data": {
            "text/plain": [
              "98"
            ]
          },
          "metadata": {},
          "execution_count": 1001
        }
      ]
    },
    {
      "cell_type": "code",
      "source": [
        "def age(dataframe):\n",
        "    dataframe.loc[dataframe['age'] <= 25, 'age'] = 1\n",
        "    dataframe.loc[(dataframe['age'] > 25) & (dataframe['age'] <= 35), 'age'] = 2\n",
        "    dataframe.loc[(dataframe['age'] > 35) & (dataframe['age'] <= 50), 'age'] = 3\n",
        "    dataframe.loc[(dataframe['age'] > 50) & (dataframe['age'] <= 70), 'age'] = 4\n",
        "    dataframe.loc[(dataframe['age'] > 70) & (dataframe['age'] <= 98), 'age'] = 4\n",
        "           \n",
        "    return dataframe\n",
        "\n",
        "age(data);"
      ],
      "metadata": {
        "id": "o2HUbBM9xJGv"
      },
      "execution_count": 1002,
      "outputs": []
    },
    {
      "cell_type": "code",
      "source": [
        "data.head()"
      ],
      "metadata": {
        "colab": {
          "base_uri": "https://localhost:8080/",
          "height": 270
        },
        "id": "ErYRS0I9tx2-",
        "outputId": "93931aa7-f3f3-4b7a-9a2d-6cf1b0d82e91"
      },
      "execution_count": 1003,
      "outputs": [
        {
          "output_type": "execute_result",
          "data": {
            "text/plain": [
              "   age  job  marital  education  default  housing  loan  month  duration  \\\n",
              "0    4    3        1          0        0        0     0      6       261   \n",
              "1    4    7        1          3        1        0     0      6       149   \n",
              "2    3    7        1          3        0        2     0      6       226   \n",
              "3    3    0        1          1        0        0     0      6       151   \n",
              "4    4    7        1          3        0        0     2      6       307   \n",
              "\n",
              "   campaign  pdays  previous  poutcome  emp.var.rate  cons.price.idx  \\\n",
              "0         1    999         0         1           1.1          93.994   \n",
              "1         1    999         0         1           1.1          93.994   \n",
              "2         1    999         0         1           1.1          93.994   \n",
              "3         1    999         0         1           1.1          93.994   \n",
              "4         1    999         0         1           1.1          93.994   \n",
              "\n",
              "   cons.conf.idx  euribor3m  nr.employed  y  \n",
              "0          -36.4      4.857       5191.0  0  \n",
              "1          -36.4      4.857       5191.0  0  \n",
              "2          -36.4      4.857       5191.0  0  \n",
              "3          -36.4      4.857       5191.0  0  \n",
              "4          -36.4      4.857       5191.0  0  "
            ],
            "text/html": [
              "\n",
              "  <div id=\"df-04ebe416-1aad-4161-8562-2148ad4b6745\">\n",
              "    <div class=\"colab-df-container\">\n",
              "      <div>\n",
              "<style scoped>\n",
              "    .dataframe tbody tr th:only-of-type {\n",
              "        vertical-align: middle;\n",
              "    }\n",
              "\n",
              "    .dataframe tbody tr th {\n",
              "        vertical-align: top;\n",
              "    }\n",
              "\n",
              "    .dataframe thead th {\n",
              "        text-align: right;\n",
              "    }\n",
              "</style>\n",
              "<table border=\"1\" class=\"dataframe\">\n",
              "  <thead>\n",
              "    <tr style=\"text-align: right;\">\n",
              "      <th></th>\n",
              "      <th>age</th>\n",
              "      <th>job</th>\n",
              "      <th>marital</th>\n",
              "      <th>education</th>\n",
              "      <th>default</th>\n",
              "      <th>housing</th>\n",
              "      <th>loan</th>\n",
              "      <th>month</th>\n",
              "      <th>duration</th>\n",
              "      <th>campaign</th>\n",
              "      <th>pdays</th>\n",
              "      <th>previous</th>\n",
              "      <th>poutcome</th>\n",
              "      <th>emp.var.rate</th>\n",
              "      <th>cons.price.idx</th>\n",
              "      <th>cons.conf.idx</th>\n",
              "      <th>euribor3m</th>\n",
              "      <th>nr.employed</th>\n",
              "      <th>y</th>\n",
              "    </tr>\n",
              "  </thead>\n",
              "  <tbody>\n",
              "    <tr>\n",
              "      <th>0</th>\n",
              "      <td>4</td>\n",
              "      <td>3</td>\n",
              "      <td>1</td>\n",
              "      <td>0</td>\n",
              "      <td>0</td>\n",
              "      <td>0</td>\n",
              "      <td>0</td>\n",
              "      <td>6</td>\n",
              "      <td>261</td>\n",
              "      <td>1</td>\n",
              "      <td>999</td>\n",
              "      <td>0</td>\n",
              "      <td>1</td>\n",
              "      <td>1.1</td>\n",
              "      <td>93.994</td>\n",
              "      <td>-36.4</td>\n",
              "      <td>4.857</td>\n",
              "      <td>5191.0</td>\n",
              "      <td>0</td>\n",
              "    </tr>\n",
              "    <tr>\n",
              "      <th>1</th>\n",
              "      <td>4</td>\n",
              "      <td>7</td>\n",
              "      <td>1</td>\n",
              "      <td>3</td>\n",
              "      <td>1</td>\n",
              "      <td>0</td>\n",
              "      <td>0</td>\n",
              "      <td>6</td>\n",
              "      <td>149</td>\n",
              "      <td>1</td>\n",
              "      <td>999</td>\n",
              "      <td>0</td>\n",
              "      <td>1</td>\n",
              "      <td>1.1</td>\n",
              "      <td>93.994</td>\n",
              "      <td>-36.4</td>\n",
              "      <td>4.857</td>\n",
              "      <td>5191.0</td>\n",
              "      <td>0</td>\n",
              "    </tr>\n",
              "    <tr>\n",
              "      <th>2</th>\n",
              "      <td>3</td>\n",
              "      <td>7</td>\n",
              "      <td>1</td>\n",
              "      <td>3</td>\n",
              "      <td>0</td>\n",
              "      <td>2</td>\n",
              "      <td>0</td>\n",
              "      <td>6</td>\n",
              "      <td>226</td>\n",
              "      <td>1</td>\n",
              "      <td>999</td>\n",
              "      <td>0</td>\n",
              "      <td>1</td>\n",
              "      <td>1.1</td>\n",
              "      <td>93.994</td>\n",
              "      <td>-36.4</td>\n",
              "      <td>4.857</td>\n",
              "      <td>5191.0</td>\n",
              "      <td>0</td>\n",
              "    </tr>\n",
              "    <tr>\n",
              "      <th>3</th>\n",
              "      <td>3</td>\n",
              "      <td>0</td>\n",
              "      <td>1</td>\n",
              "      <td>1</td>\n",
              "      <td>0</td>\n",
              "      <td>0</td>\n",
              "      <td>0</td>\n",
              "      <td>6</td>\n",
              "      <td>151</td>\n",
              "      <td>1</td>\n",
              "      <td>999</td>\n",
              "      <td>0</td>\n",
              "      <td>1</td>\n",
              "      <td>1.1</td>\n",
              "      <td>93.994</td>\n",
              "      <td>-36.4</td>\n",
              "      <td>4.857</td>\n",
              "      <td>5191.0</td>\n",
              "      <td>0</td>\n",
              "    </tr>\n",
              "    <tr>\n",
              "      <th>4</th>\n",
              "      <td>4</td>\n",
              "      <td>7</td>\n",
              "      <td>1</td>\n",
              "      <td>3</td>\n",
              "      <td>0</td>\n",
              "      <td>0</td>\n",
              "      <td>2</td>\n",
              "      <td>6</td>\n",
              "      <td>307</td>\n",
              "      <td>1</td>\n",
              "      <td>999</td>\n",
              "      <td>0</td>\n",
              "      <td>1</td>\n",
              "      <td>1.1</td>\n",
              "      <td>93.994</td>\n",
              "      <td>-36.4</td>\n",
              "      <td>4.857</td>\n",
              "      <td>5191.0</td>\n",
              "      <td>0</td>\n",
              "    </tr>\n",
              "  </tbody>\n",
              "</table>\n",
              "</div>\n",
              "      <button class=\"colab-df-convert\" onclick=\"convertToInteractive('df-04ebe416-1aad-4161-8562-2148ad4b6745')\"\n",
              "              title=\"Convert this dataframe to an interactive table.\"\n",
              "              style=\"display:none;\">\n",
              "        \n",
              "  <svg xmlns=\"http://www.w3.org/2000/svg\" height=\"24px\"viewBox=\"0 0 24 24\"\n",
              "       width=\"24px\">\n",
              "    <path d=\"M0 0h24v24H0V0z\" fill=\"none\"/>\n",
              "    <path d=\"M18.56 5.44l.94 2.06.94-2.06 2.06-.94-2.06-.94-.94-2.06-.94 2.06-2.06.94zm-11 1L8.5 8.5l.94-2.06 2.06-.94-2.06-.94L8.5 2.5l-.94 2.06-2.06.94zm10 10l.94 2.06.94-2.06 2.06-.94-2.06-.94-.94-2.06-.94 2.06-2.06.94z\"/><path d=\"M17.41 7.96l-1.37-1.37c-.4-.4-.92-.59-1.43-.59-.52 0-1.04.2-1.43.59L10.3 9.45l-7.72 7.72c-.78.78-.78 2.05 0 2.83L4 21.41c.39.39.9.59 1.41.59.51 0 1.02-.2 1.41-.59l7.78-7.78 2.81-2.81c.8-.78.8-2.07 0-2.86zM5.41 20L4 18.59l7.72-7.72 1.47 1.35L5.41 20z\"/>\n",
              "  </svg>\n",
              "      </button>\n",
              "      \n",
              "  <style>\n",
              "    .colab-df-container {\n",
              "      display:flex;\n",
              "      flex-wrap:wrap;\n",
              "      gap: 12px;\n",
              "    }\n",
              "\n",
              "    .colab-df-convert {\n",
              "      background-color: #E8F0FE;\n",
              "      border: none;\n",
              "      border-radius: 50%;\n",
              "      cursor: pointer;\n",
              "      display: none;\n",
              "      fill: #1967D2;\n",
              "      height: 32px;\n",
              "      padding: 0 0 0 0;\n",
              "      width: 32px;\n",
              "    }\n",
              "\n",
              "    .colab-df-convert:hover {\n",
              "      background-color: #E2EBFA;\n",
              "      box-shadow: 0px 1px 2px rgba(60, 64, 67, 0.3), 0px 1px 3px 1px rgba(60, 64, 67, 0.15);\n",
              "      fill: #174EA6;\n",
              "    }\n",
              "\n",
              "    [theme=dark] .colab-df-convert {\n",
              "      background-color: #3B4455;\n",
              "      fill: #D2E3FC;\n",
              "    }\n",
              "\n",
              "    [theme=dark] .colab-df-convert:hover {\n",
              "      background-color: #434B5C;\n",
              "      box-shadow: 0px 1px 3px 1px rgba(0, 0, 0, 0.15);\n",
              "      filter: drop-shadow(0px 1px 2px rgba(0, 0, 0, 0.3));\n",
              "      fill: #FFFFFF;\n",
              "    }\n",
              "  </style>\n",
              "\n",
              "      <script>\n",
              "        const buttonEl =\n",
              "          document.querySelector('#df-04ebe416-1aad-4161-8562-2148ad4b6745 button.colab-df-convert');\n",
              "        buttonEl.style.display =\n",
              "          google.colab.kernel.accessAllowed ? 'block' : 'none';\n",
              "\n",
              "        async function convertToInteractive(key) {\n",
              "          const element = document.querySelector('#df-04ebe416-1aad-4161-8562-2148ad4b6745');\n",
              "          const dataTable =\n",
              "            await google.colab.kernel.invokeFunction('convertToInteractive',\n",
              "                                                     [key], {});\n",
              "          if (!dataTable) return;\n",
              "\n",
              "          const docLinkHtml = 'Like what you see? Visit the ' +\n",
              "            '<a target=\"_blank\" href=https://colab.research.google.com/notebooks/data_table.ipynb>data table notebook</a>'\n",
              "            + ' to learn more about interactive tables.';\n",
              "          element.innerHTML = '';\n",
              "          dataTable['output_type'] = 'display_data';\n",
              "          await google.colab.output.renderOutput(dataTable, element);\n",
              "          const docLink = document.createElement('div');\n",
              "          docLink.innerHTML = docLinkHtml;\n",
              "          element.appendChild(docLink);\n",
              "        }\n",
              "      </script>\n",
              "    </div>\n",
              "  </div>\n",
              "  "
            ]
          },
          "metadata": {},
          "execution_count": 1003
        }
      ]
    },
    {
      "cell_type": "code",
      "source": [
        "#Using Pearson Correlation\n",
        "plt.figure(figsize=(12,10))\n",
        "cor = data.corr()\n",
        "sns.heatmap(cor)\n",
        "plt.show()"
      ],
      "metadata": {
        "colab": {
          "base_uri": "https://localhost:8080/",
          "height": 643
        },
        "id": "_l8_4gRmsvaC",
        "outputId": "8f12f043-f001-4a4a-f295-2ad5de131c2f"
      },
      "execution_count": 1004,
      "outputs": [
        {
          "output_type": "display_data",
          "data": {
            "text/plain": [
              "<Figure size 864x720 with 2 Axes>"
            ],
            "image/png": "[encoded data removed]"
          },
          "metadata": {}
        }
      ]
    },
    {
      "cell_type": "code",
      "source": [
        "corr = data.corr()\n",
        "corr_greater_than_50 = corr[corr>=.5]\n",
        "corr_greater_than_50"
      ],
      "metadata": {
        "colab": {
          "base_uri": "https://localhost:8080/",
          "height": 709
        },
        "id": "BXLZ8otCsvXz",
        "outputId": "994729c3-fbb6-4115-80e5-85ae59a2d592"
      },
      "execution_count": 1005,
      "outputs": [
        {
          "output_type": "execute_result",
          "data": {
            "text/plain": [
              "                age  job  marital  education  default  housing  loan  month  \\\n",
              "age             1.0  NaN      NaN        NaN      NaN      NaN   NaN    NaN   \n",
              "job             NaN  1.0      NaN        NaN      NaN      NaN   NaN    NaN   \n",
              "marital         NaN  NaN      1.0        NaN      NaN      NaN   NaN    NaN   \n",
              "education       NaN  NaN      NaN        1.0      NaN      NaN   NaN    NaN   \n",
              "default         NaN  NaN      NaN        NaN      1.0      NaN   NaN    NaN   \n",
              "housing         NaN  NaN      NaN        NaN      NaN      1.0   NaN    NaN   \n",
              "loan            NaN  NaN      NaN        NaN      NaN      NaN   1.0    NaN   \n",
              "month           NaN  NaN      NaN        NaN      NaN      NaN   NaN    1.0   \n",
              "duration        NaN  NaN      NaN        NaN      NaN      NaN   NaN    NaN   \n",
              "campaign        NaN  NaN      NaN        NaN      NaN      NaN   NaN    NaN   \n",
              "pdays           NaN  NaN      NaN        NaN      NaN      NaN   NaN    NaN   \n",
              "previous        NaN  NaN      NaN        NaN      NaN      NaN   NaN    NaN   \n",
              "poutcome        NaN  NaN      NaN        NaN      NaN      NaN   NaN    NaN   \n",
              "emp.var.rate    NaN  NaN      NaN        NaN      NaN      NaN   NaN    NaN   \n",
              "cons.price.idx  NaN  NaN      NaN        NaN      NaN      NaN   NaN    NaN   \n",
              "cons.conf.idx   NaN  NaN      NaN        NaN      NaN      NaN   NaN    NaN   \n",
              "euribor3m       NaN  NaN      NaN        NaN      NaN      NaN   NaN    NaN   \n",
              "nr.employed     NaN  NaN      NaN        NaN      NaN      NaN   NaN    NaN   \n",
              "y               NaN  NaN      NaN        NaN      NaN      NaN   NaN    NaN   \n",
              "\n",
              "                duration  campaign  pdays  previous  poutcome  emp.var.rate  \\\n",
              "age                  NaN       NaN    NaN       NaN       NaN           NaN   \n",
              "job                  NaN       NaN    NaN       NaN       NaN           NaN   \n",
              "marital              NaN       NaN    NaN       NaN       NaN           NaN   \n",
              "education            NaN       NaN    NaN       NaN       NaN           NaN   \n",
              "default              NaN       NaN    NaN       NaN       NaN           NaN   \n",
              "housing              NaN       NaN    NaN       NaN       NaN           NaN   \n",
              "loan                 NaN       NaN    NaN       NaN       NaN           NaN   \n",
              "month                NaN       NaN    NaN       NaN       NaN           NaN   \n",
              "duration             1.0       NaN    NaN       NaN       NaN           NaN   \n",
              "campaign             NaN       1.0    NaN       NaN       NaN           NaN   \n",
              "pdays                NaN       NaN    1.0       NaN       NaN           NaN   \n",
              "previous             NaN       NaN    NaN       1.0       NaN           NaN   \n",
              "poutcome             NaN       NaN    NaN       NaN       1.0           NaN   \n",
              "emp.var.rate         NaN       NaN    NaN       NaN       NaN      1.000000   \n",
              "cons.price.idx       NaN       NaN    NaN       NaN       NaN      0.775293   \n",
              "cons.conf.idx        NaN       NaN    NaN       NaN       NaN           NaN   \n",
              "euribor3m            NaN       NaN    NaN       NaN       NaN      0.972244   \n",
              "nr.employed          NaN       NaN    NaN       NaN       NaN      0.906949   \n",
              "y                    NaN       NaN    NaN       NaN       NaN           NaN   \n",
              "\n",
              "                cons.price.idx  cons.conf.idx  euribor3m  nr.employed    y  \n",
              "age                        NaN            NaN        NaN          NaN  NaN  \n",
              "job                        NaN            NaN        NaN          NaN  NaN  \n",
              "marital                    NaN            NaN        NaN          NaN  NaN  \n",
              "education                  NaN            NaN        NaN          NaN  NaN  \n",
              "default                    NaN            NaN        NaN          NaN  NaN  \n",
              "housing                    NaN            NaN        NaN          NaN  NaN  \n",
              "loan                       NaN            NaN        NaN          NaN  NaN  \n",
              "month                      NaN            NaN        NaN          NaN  NaN  \n",
              "duration                   NaN            NaN        NaN          NaN  NaN  \n",
              "campaign                   NaN            NaN        NaN          NaN  NaN  \n",
              "pdays                      NaN            NaN        NaN          NaN  NaN  \n",
              "previous                   NaN            NaN        NaN          NaN  NaN  \n",
              "poutcome                   NaN            NaN        NaN          NaN  NaN  \n",
              "emp.var.rate          0.775293            NaN   0.972244     0.906949  NaN  \n",
              "cons.price.idx        1.000000            NaN   0.688180     0.521945  NaN  \n",
              "cons.conf.idx              NaN            1.0        NaN          NaN  NaN  \n",
              "euribor3m             0.688180            NaN   1.000000     0.945146  NaN  \n",
              "nr.employed           0.521945            NaN   0.945146     1.000000  NaN  \n",
              "y                          NaN            NaN        NaN          NaN  1.0  "
            ],
            "text/html": [
              "\n",
              "  <div id=\"df-ddcb739b-b3d5-471a-b2f0-e642f09083a5\">\n",
              "    <div class=\"colab-df-container\">\n",
              "      <div>\n",
              "<style scoped>\n",
              "    .dataframe tbody tr th:only-of-type {\n",
              "        vertical-align: middle;\n",
              "    }\n",
              "\n",
              "    .dataframe tbody tr th {\n",
              "        vertical-align: top;\n",
              "    }\n",
              "\n",
              "    .dataframe thead th {\n",
              "        text-align: right;\n",
              "    }\n",
              "</style>\n",
              "<table border=\"1\" class=\"dataframe\">\n",
              "  <thead>\n",
              "    <tr style=\"text-align: right;\">\n",
              "      <th></th>\n",
              "      <th>age</th>\n",
              "      <th>job</th>\n",
              "      <th>marital</th>\n",
              "      <th>education</th>\n",
              "      <th>default</th>\n",
              "      <th>housing</th>\n",
              "      <th>loan</th>\n",
              "      <th>month</th>\n",
              "      <th>duration</th>\n",
              "      <th>campaign</th>\n",
              "      <th>pdays</th>\n",
              "      <th>previous</th>\n",
              "      <th>poutcome</th>\n",
              "      <th>emp.var.rate</th>\n",
              "      <th>cons.price.idx</th>\n",
              "      <th>cons.conf.idx</th>\n",
              "      <th>euribor3m</th>\n",
              "      <th>nr.employed</th>\n",
              "      <th>y</th>\n",
              "    </tr>\n",
              "  </thead>\n",
              "  <tbody>\n",
              "    <tr>\n",
              "      <th>age</th>\n",
              "      <td>1.0</td>\n",
              "      <td>NaN</td>\n",
              "      <td>NaN</td>\n",
              "      <td>NaN</td>\n",
              "      <td>NaN</td>\n",
              "      <td>NaN</td>\n",
              "      <td>NaN</td>\n",
              "      <td>NaN</td>\n",
              "      <td>NaN</td>\n",
              "      <td>NaN</td>\n",
              "      <td>NaN</td>\n",
              "      <td>NaN</td>\n",
              "      <td>NaN</td>\n",
              "      <td>NaN</td>\n",
              "      <td>NaN</td>\n",
              "      <td>NaN</td>\n",
              "      <td>NaN</td>\n",
              "      <td>NaN</td>\n",
              "      <td>NaN</td>\n",
              "    </tr>\n",
              "    <tr>\n",
              "      <th>job</th>\n",
              "      <td>NaN</td>\n",
              "      <td>1.0</td>\n",
              "      <td>NaN</td>\n",
              "      <td>NaN</td>\n",
              "      <td>NaN</td>\n",
              "      <td>NaN</td>\n",
              "      <td>NaN</td>\n",
              "      <td>NaN</td>\n",
              "      <td>NaN</td>\n",
              "      <td>NaN</td>\n",
              "      <td>NaN</td>\n",
              "      <td>NaN</td>\n",
              "      <td>NaN</td>\n",
              "      <td>NaN</td>\n",
              "      <td>NaN</td>\n",
              "      <td>NaN</td>\n",
              "      <td>NaN</td>\n",
              "      <td>NaN</td>\n",
              "      <td>NaN</td>\n",
              "    </tr>\n",
              "    <tr>\n",
              "      <th>marital</th>\n",
              "      <td>NaN</td>\n",
              "      <td>NaN</td>\n",
              "      <td>1.0</td>\n",
              "      <td>NaN</td>\n",
              "      <td>NaN</td>\n",
              "      <td>NaN</td>\n",
              "      <td>NaN</td>\n",
              "      <td>NaN</td>\n",
              "      <td>NaN</td>\n",
              "      <td>NaN</td>\n",
              "      <td>NaN</td>\n",
              "      <td>NaN</td>\n",
              "      <td>NaN</td>\n",
              "      <td>NaN</td>\n",
              "      <td>NaN</td>\n",
              "      <td>NaN</td>\n",
              "      <td>NaN</td>\n",
              "      <td>NaN</td>\n",
              "      <td>NaN</td>\n",
              "    </tr>\n",
              "    <tr>\n",
              "      <th>education</th>\n",
              "      <td>NaN</td>\n",
              "      <td>NaN</td>\n",
              "      <td>NaN</td>\n",
              "      <td>1.0</td>\n",
              "      <td>NaN</td>\n",
              "      <td>NaN</td>\n",
              "      <td>NaN</td>\n",
              "      <td>NaN</td>\n",
              "      <td>NaN</td>\n",
              "      <td>NaN</td>\n",
              "      <td>NaN</td>\n",
              "      <td>NaN</td>\n",
              "      <td>NaN</td>\n",
              "      <td>NaN</td>\n",
              "      <td>NaN</td>\n",
              "      <td>NaN</td>\n",
              "      <td>NaN</td>\n",
              "      <td>NaN</td>\n",
              "      <td>NaN</td>\n",
              "    </tr>\n",
              "    <tr>\n",
              "      <th>default</th>\n",
              "      <td>NaN</td>\n",
              "      <td>NaN</td>\n",
              "      <td>NaN</td>\n",
              "      <td>NaN</td>\n",
              "      <td>1.0</td>\n",
              "      <td>NaN</td>\n",
              "      <td>NaN</td>\n",
              "      <td>NaN</td>\n",
              "      <td>NaN</td>\n",
              "      <td>NaN</td>\n",
              "      <td>NaN</td>\n",
              "      <td>NaN</td>\n",
              "      <td>NaN</td>\n",
              "      <td>NaN</td>\n",
              "      <td>NaN</td>\n",
              "      <td>NaN</td>\n",
              "      <td>NaN</td>\n",
              "      <td>NaN</td>\n",
              "      <td>NaN</td>\n",
              "    </tr>\n",
              "    <tr>\n",
              "      <th>housing</th>\n",
              "      <td>NaN</td>\n",
              "      <td>NaN</td>\n",
              "      <td>NaN</td>\n",
              "      <td>NaN</td>\n",
              "      <td>NaN</td>\n",
              "      <td>1.0</td>\n",
              "      <td>NaN</td>\n",
              "      <td>NaN</td>\n",
              "      <td>NaN</td>\n",
              "      <td>NaN</td>\n",
              "      <td>NaN</td>\n",
              "      <td>NaN</td>\n",
              "      <td>NaN</td>\n",
              "      <td>NaN</td>\n",
              "      <td>NaN</td>\n",
              "      <td>NaN</td>\n",
              "      <td>NaN</td>\n",
              "      <td>NaN</td>\n",
              "      <td>NaN</td>\n",
              "    </tr>\n",
              "    <tr>\n",
              "      <th>loan</th>\n",
              "      <td>NaN</td>\n",
              "      <td>NaN</td>\n",
              "      <td>NaN</td>\n",
              "      <td>NaN</td>\n",
              "      <td>NaN</td>\n",
              "      <td>NaN</td>\n",
              "      <td>1.0</td>\n",
              "      <td>NaN</td>\n",
              "      <td>NaN</td>\n",
              "      <td>NaN</td>\n",
              "      <td>NaN</td>\n",
              "      <td>NaN</td>\n",
              "      <td>NaN</td>\n",
              "      <td>NaN</td>\n",
              "      <td>NaN</td>\n",
              "      <td>NaN</td>\n",
              "      <td>NaN</td>\n",
              "      <td>NaN</td>\n",
              "      <td>NaN</td>\n",
              "    </tr>\n",
              "    <tr>\n",
              "      <th>month</th>\n",
              "      <td>NaN</td>\n",
              "      <td>NaN</td>\n",
              "      <td>NaN</td>\n",
              "      <td>NaN</td>\n",
              "      <td>NaN</td>\n",
              "      <td>NaN</td>\n",
              "      <td>NaN</td>\n",
              "      <td>1.0</td>\n",
              "      <td>NaN</td>\n",
              "      <td>NaN</td>\n",
              "      <td>NaN</td>\n",
              "      <td>NaN</td>\n",
              "      <td>NaN</td>\n",
              "      <td>NaN</td>\n",
              "      <td>NaN</td>\n",
              "      <td>NaN</td>\n",
              "      <td>NaN</td>\n",
              "      <td>NaN</td>\n",
              "      <td>NaN</td>\n",
              "    </tr>\n",
              "    <tr>\n",
              "      <th>duration</th>\n",
              "      <td>NaN</td>\n",
              "      <td>NaN</td>\n",
              "      <td>NaN</td>\n",
              "      <td>NaN</td>\n",
              "      <td>NaN</td>\n",
              "      <td>NaN</td>\n",
              "      <td>NaN</td>\n",
              "      <td>NaN</td>\n",
              "      <td>1.0</td>\n",
              "      <td>NaN</td>\n",
              "      <td>NaN</td>\n",
              "      <td>NaN</td>\n",
              "      <td>NaN</td>\n",
              "      <td>NaN</td>\n",
              "      <td>NaN</td>\n",
              "      <td>NaN</td>\n",
              "      <td>NaN</td>\n",
              "      <td>NaN</td>\n",
              "      <td>NaN</td>\n",
              "    </tr>\n",
              "    <tr>\n",
              "      <th>campaign</th>\n",
              "      <td>NaN</td>\n",
              "      <td>NaN</td>\n",
              "      <td>NaN</td>\n",
              "      <td>NaN</td>\n",
              "      <td>NaN</td>\n",
              "      <td>NaN</td>\n",
              "      <td>NaN</td>\n",
              "      <td>NaN</td>\n",
              "      <td>NaN</td>\n",
              "      <td>1.0</td>\n",
              "      <td>NaN</td>\n",
              "      <td>NaN</td>\n",
              "      <td>NaN</td>\n",
              "      <td>NaN</td>\n",
              "      <td>NaN</td>\n",
              "      <td>NaN</td>\n",
              "      <td>NaN</td>\n",
              "      <td>NaN</td>\n",
              "      <td>NaN</td>\n",
              "    </tr>\n",
              "    <tr>\n",
              "      <th>pdays</th>\n",
              "      <td>NaN</td>\n",
              "      <td>NaN</td>\n",
              "      <td>NaN</td>\n",
              "      <td>NaN</td>\n",
              "      <td>NaN</td>\n",
              "      <td>NaN</td>\n",
              "      <td>NaN</td>\n",
              "      <td>NaN</td>\n",
              "      <td>NaN</td>\n",
              "      <td>NaN</td>\n",
              "      <td>1.0</td>\n",
              "      <td>NaN</td>\n",
              "      <td>NaN</td>\n",
              "      <td>NaN</td>\n",
              "      <td>NaN</td>\n",
              "      <td>NaN</td>\n",
              "      <td>NaN</td>\n",
              "      <td>NaN</td>\n",
              "      <td>NaN</td>\n",
              "    </tr>\n",
              "    <tr>\n",
              "      <th>previous</th>\n",
              "      <td>NaN</td>\n",
              "      <td>NaN</td>\n",
              "      <td>NaN</td>\n",
              "      <td>NaN</td>\n",
              "      <td>NaN</td>\n",
              "      <td>NaN</td>\n",
              "      <td>NaN</td>\n",
              "      <td>NaN</td>\n",
              "      <td>NaN</td>\n",
              "      <td>NaN</td>\n",
              "      <td>NaN</td>\n",
              "      <td>1.0</td>\n",
              "      <td>NaN</td>\n",
              "      <td>NaN</td>\n",
              "      <td>NaN</td>\n",
              "      <td>NaN</td>\n",
              "      <td>NaN</td>\n",
              "      <td>NaN</td>\n",
              "      <td>NaN</td>\n",
              "    </tr>\n",
              "    <tr>\n",
              "      <th>poutcome</th>\n",
              "      <td>NaN</td>\n",
              "      <td>NaN</td>\n",
              "      <td>NaN</td>\n",
              "      <td>NaN</td>\n",
              "      <td>NaN</td>\n",
              "      <td>NaN</td>\n",
              "      <td>NaN</td>\n",
              "      <td>NaN</td>\n",
              "      <td>NaN</td>\n",
              "      <td>NaN</td>\n",
              "      <td>NaN</td>\n",
              "      <td>NaN</td>\n",
              "      <td>1.0</td>\n",
              "      <td>NaN</td>\n",
              "      <td>NaN</td>\n",
              "      <td>NaN</td>\n",
              "      <td>NaN</td>\n",
              "      <td>NaN</td>\n",
              "      <td>NaN</td>\n",
              "    </tr>\n",
              "    <tr>\n",
              "      <th>emp.var.rate</th>\n",
              "      <td>NaN</td>\n",
              "      <td>NaN</td>\n",
              "      <td>NaN</td>\n",
              "      <td>NaN</td>\n",
              "      <td>NaN</td>\n",
              "      <td>NaN</td>\n",
              "      <td>NaN</td>\n",
              "      <td>NaN</td>\n",
              "      <td>NaN</td>\n",
              "      <td>NaN</td>\n",
              "      <td>NaN</td>\n",
              "      <td>NaN</td>\n",
              "      <td>NaN</td>\n",
              "      <td>1.000000</td>\n",
              "      <td>0.775293</td>\n",
              "      <td>NaN</td>\n",
              "      <td>0.972244</td>\n",
              "      <td>0.906949</td>\n",
              "      <td>NaN</td>\n",
              "    </tr>\n",
              "    <tr>\n",
              "      <th>cons.price.idx</th>\n",
              "      <td>NaN</td>\n",
              "      <td>NaN</td>\n",
              "      <td>NaN</td>\n",
              "      <td>NaN</td>\n",
              "      <td>NaN</td>\n",
              "      <td>NaN</td>\n",
              "      <td>NaN</td>\n",
              "      <td>NaN</td>\n",
              "      <td>NaN</td>\n",
              "      <td>NaN</td>\n",
              "      <td>NaN</td>\n",
              "      <td>NaN</td>\n",
              "      <td>NaN</td>\n",
              "      <td>0.775293</td>\n",
              "      <td>1.000000</td>\n",
              "      <td>NaN</td>\n",
              "      <td>0.688180</td>\n",
              "      <td>0.521945</td>\n",
              "      <td>NaN</td>\n",
              "    </tr>\n",
              "    <tr>\n",
              "      <th>cons.conf.idx</th>\n",
              "      <td>NaN</td>\n",
              "      <td>NaN</td>\n",
              "      <td>NaN</td>\n",
              "      <td>NaN</td>\n",
              "      <td>NaN</td>\n",
              "      <td>NaN</td>\n",
              "      <td>NaN</td>\n",
              "      <td>NaN</td>\n",
              "      <td>NaN</td>\n",
              "      <td>NaN</td>\n",
              "      <td>NaN</td>\n",
              "      <td>NaN</td>\n",
              "      <td>NaN</td>\n",
              "      <td>NaN</td>\n",
              "      <td>NaN</td>\n",
              "      <td>1.0</td>\n",
              "      <td>NaN</td>\n",
              "      <td>NaN</td>\n",
              "      <td>NaN</td>\n",
              "    </tr>\n",
              "    <tr>\n",
              "      <th>euribor3m</th>\n",
              "      <td>NaN</td>\n",
              "      <td>NaN</td>\n",
              "      <td>NaN</td>\n",
              "      <td>NaN</td>\n",
              "      <td>NaN</td>\n",
              "      <td>NaN</td>\n",
              "      <td>NaN</td>\n",
              "      <td>NaN</td>\n",
              "      <td>NaN</td>\n",
              "      <td>NaN</td>\n",
              "      <td>NaN</td>\n",
              "      <td>NaN</td>\n",
              "      <td>NaN</td>\n",
              "      <td>0.972244</td>\n",
              "      <td>0.688180</td>\n",
              "      <td>NaN</td>\n",
              "      <td>1.000000</td>\n",
              "      <td>0.945146</td>\n",
              "      <td>NaN</td>\n",
              "    </tr>\n",
              "    <tr>\n",
              "      <th>nr.employed</th>\n",
              "      <td>NaN</td>\n",
              "      <td>NaN</td>\n",
              "      <td>NaN</td>\n",
              "      <td>NaN</td>\n",
              "      <td>NaN</td>\n",
              "      <td>NaN</td>\n",
              "      <td>NaN</td>\n",
              "      <td>NaN</td>\n",
              "      <td>NaN</td>\n",
              "      <td>NaN</td>\n",
              "      <td>NaN</td>\n",
              "      <td>NaN</td>\n",
              "      <td>NaN</td>\n",
              "      <td>0.906949</td>\n",
              "      <td>0.521945</td>\n",
              "      <td>NaN</td>\n",
              "      <td>0.945146</td>\n",
              "      <td>1.000000</td>\n",
              "      <td>NaN</td>\n",
              "    </tr>\n",
              "    <tr>\n",
              "      <th>y</th>\n",
              "      <td>NaN</td>\n",
              "      <td>NaN</td>\n",
              "      <td>NaN</td>\n",
              "      <td>NaN</td>\n",
              "      <td>NaN</td>\n",
              "      <td>NaN</td>\n",
              "      <td>NaN</td>\n",
              "      <td>NaN</td>\n",
              "      <td>NaN</td>\n",
              "      <td>NaN</td>\n",
              "      <td>NaN</td>\n",
              "      <td>NaN</td>\n",
              "      <td>NaN</td>\n",
              "      <td>NaN</td>\n",
              "      <td>NaN</td>\n",
              "      <td>NaN</td>\n",
              "      <td>NaN</td>\n",
              "      <td>NaN</td>\n",
              "      <td>1.0</td>\n",
              "    </tr>\n",
              "  </tbody>\n",
              "</table>\n",
              "</div>\n",
              "      <button class=\"colab-df-convert\" onclick=\"convertToInteractive('df-ddcb739b-b3d5-471a-b2f0-e642f09083a5')\"\n",
              "              title=\"Convert this dataframe to an interactive table.\"\n",
              "              style=\"display:none;\">\n",
              "        \n",
              "  <svg xmlns=\"http://www.w3.org/2000/svg\" height=\"24px\"viewBox=\"0 0 24 24\"\n",
              "       width=\"24px\">\n",
              "    <path d=\"M0 0h24v24H0V0z\" fill=\"none\"/>\n",
              "    <path d=\"M18.56 5.44l.94 2.06.94-2.06 2.06-.94-2.06-.94-.94-2.06-.94 2.06-2.06.94zm-11 1L8.5 8.5l.94-2.06 2.06-.94-2.06-.94L8.5 2.5l-.94 2.06-2.06.94zm10 10l.94 2.06.94-2.06 2.06-.94-2.06-.94-.94-2.06-.94 2.06-2.06.94z\"/><path d=\"M17.41 7.96l-1.37-1.37c-.4-.4-.92-.59-1.43-.59-.52 0-1.04.2-1.43.59L10.3 9.45l-7.72 7.72c-.78.78-.78 2.05 0 2.83L4 21.41c.39.39.9.59 1.41.59.51 0 1.02-.2 1.41-.59l7.78-7.78 2.81-2.81c.8-.78.8-2.07 0-2.86zM5.41 20L4 18.59l7.72-7.72 1.47 1.35L5.41 20z\"/>\n",
              "  </svg>\n",
              "      </button>\n",
              "      \n",
              "  <style>\n",
              "    .colab-df-container {\n",
              "      display:flex;\n",
              "      flex-wrap:wrap;\n",
              "      gap: 12px;\n",
              "    }\n",
              "\n",
              "    .colab-df-convert {\n",
              "      background-color: #E8F0FE;\n",
              "      border: none;\n",
              "      border-radius: 50%;\n",
              "      cursor: pointer;\n",
              "      display: none;\n",
              "      fill: #1967D2;\n",
              "      height: 32px;\n",
              "      padding: 0 0 0 0;\n",
              "      width: 32px;\n",
              "    }\n",
              "\n",
              "    .colab-df-convert:hover {\n",
              "      background-color: #E2EBFA;\n",
              "      box-shadow: 0px 1px 2px rgba(60, 64, 67, 0.3), 0px 1px 3px 1px rgba(60, 64, 67, 0.15);\n",
              "      fill: #174EA6;\n",
              "    }\n",
              "\n",
              "    [theme=dark] .colab-df-convert {\n",
              "      background-color: #3B4455;\n",
              "      fill: #D2E3FC;\n",
              "    }\n",
              "\n",
              "    [theme=dark] .colab-df-convert:hover {\n",
              "      background-color: #434B5C;\n",
              "      box-shadow: 0px 1px 3px 1px rgba(0, 0, 0, 0.15);\n",
              "      filter: drop-shadow(0px 1px 2px rgba(0, 0, 0, 0.3));\n",
              "      fill: #FFFFFF;\n",
              "    }\n",
              "  </style>\n",
              "\n",
              "      <script>\n",
              "        const buttonEl =\n",
              "          document.querySelector('#df-ddcb739b-b3d5-471a-b2f0-e642f09083a5 button.colab-df-convert');\n",
              "        buttonEl.style.display =\n",
              "          google.colab.kernel.accessAllowed ? 'block' : 'none';\n",
              "\n",
              "        async function convertToInteractive(key) {\n",
              "          const element = document.querySelector('#df-ddcb739b-b3d5-471a-b2f0-e642f09083a5');\n",
              "          const dataTable =\n",
              "            await google.colab.kernel.invokeFunction('convertToInteractive',\n",
              "                                                     [key], {});\n",
              "          if (!dataTable) return;\n",
              "\n",
              "          const docLinkHtml = 'Like what you see? Visit the ' +\n",
              "            '<a target=\"_blank\" href=https://colab.research.google.com/notebooks/data_table.ipynb>data table notebook</a>'\n",
              "            + ' to learn more about interactive tables.';\n",
              "          element.innerHTML = '';\n",
              "          dataTable['output_type'] = 'display_data';\n",
              "          await google.colab.output.renderOutput(dataTable, element);\n",
              "          const docLink = document.createElement('div');\n",
              "          docLink.innerHTML = docLinkHtml;\n",
              "          element.appendChild(docLink);\n",
              "        }\n",
              "      </script>\n",
              "    </div>\n",
              "  </div>\n",
              "  "
            ]
          },
          "metadata": {},
          "execution_count": 1005
        }
      ]
    },
    {
      "cell_type": "code",
      "source": [
        "data.corr()[\"y\"].sort_values(ascending=False)"
      ],
      "metadata": {
        "colab": {
          "base_uri": "https://localhost:8080/"
        },
        "id": "RCxVuSXHsvK0",
        "outputId": "cc8c5c17-4bf8-4299-d5ea-cf2228d3a0a3"
      },
      "execution_count": 1006,
      "outputs": [
        {
          "output_type": "execute_result",
          "data": {
            "text/plain": [
              "y                 1.000000\n",
              "duration          0.405297\n",
              "previous          0.230202\n",
              "poutcome          0.129810\n",
              "education         0.057776\n",
              "cons.conf.idx     0.054802\n",
              "marital           0.046249\n",
              "job               0.025248\n",
              "housing           0.011613\n",
              "loan             -0.004922\n",
              "month            -0.006051\n",
              "age              -0.011381\n",
              "campaign         -0.066361\n",
              "default          -0.099364\n",
              "cons.price.idx   -0.136134\n",
              "emp.var.rate     -0.298289\n",
              "euribor3m        -0.307740\n",
              "pdays            -0.324948\n",
              "nr.employed      -0.354669\n",
              "Name: y, dtype: float64"
            ]
          },
          "metadata": {},
          "execution_count": 1006
        }
      ]
    },
    {
      "cell_type": "code",
      "source": [
        "data.to_csv(r'/content/drive/MyDrive/bank-cleaned.csv')"
      ],
      "metadata": {
        "id": "pJJ5SouzJgOk"
      },
      "execution_count": 1007,
      "outputs": []
    },
    {
      "cell_type": "code",
      "source": [
        "from sklearn.model_selection import  train_test_split"
      ],
      "metadata": {
        "id": "18tAuCI84Hgs"
      },
      "execution_count": 1008,
      "outputs": []
    },
    {
      "cell_type": "code",
      "source": [
        "x = data.drop(\"y\", axis=1)\n",
        "y = data['y']"
      ],
      "metadata": {
        "id": "yaGvkEbp02ah"
      },
      "execution_count": 1009,
      "outputs": []
    },
    {
      "cell_type": "code",
      "source": [
        "# Create the object for SelectKBest and fit and transform the classification data\n",
        "# k is the number of features you want to select [here it's 2]\n",
        "from sklearn.feature_selection import SelectKBest, f_classif\n",
        "#X_clf_new = SelectKBest(score_func=chi2,k=10).fit_transform(X_clf,y_clf)\n",
        "# Create and fit selector\n",
        "selector = SelectKBest(f_classif, k=10)\n",
        "selector.fit(x, y)\n",
        "# Get columns to keep and create new dataframe with those only\n",
        "cols = selector.get_support(indices=True)\n",
        "features_df_new = x.iloc[:,cols]"
      ],
      "metadata": {
        "id": "JR2E6bZ6N7Zb"
      },
      "execution_count": 1010,
      "outputs": []
    },
    {
      "cell_type": "code",
      "source": [
        "print(features_df_new)\n",
        "#below are the 10 most important features for our model."
      ],
      "metadata": {
        "colab": {
          "base_uri": "https://localhost:8080/"
        },
        "id": "cIPoa_dyN7QY",
        "outputId": "ba6e7cbf-5a05-4ff6-c019-bd12888783ee"
      },
      "execution_count": 1011,
      "outputs": [
        {
          "output_type": "stream",
          "name": "stdout",
          "text": [
            "       default  duration  campaign  pdays  previous  poutcome  emp.var.rate  \\\n",
            "0            0       261         1    999         0         1           1.1   \n",
            "1            1       149         1    999         0         1           1.1   \n",
            "2            0       226         1    999         0         1           1.1   \n",
            "3            0       151         1    999         0         1           1.1   \n",
            "4            0       307         1    999         0         1           1.1   \n",
            "...        ...       ...       ...    ...       ...       ...           ...   \n",
            "41183        0       334         1    999         0         1          -1.1   \n",
            "41184        0       383         1    999         0         1          -1.1   \n",
            "41185        0       189         2    999         0         1          -1.1   \n",
            "41186        0       442         1    999         0         1          -1.1   \n",
            "41187        0       239         3    999         1         0          -1.1   \n",
            "\n",
            "       cons.price.idx  euribor3m  nr.employed  \n",
            "0              93.994      4.857       5191.0  \n",
            "1              93.994      4.857       5191.0  \n",
            "2              93.994      4.857       5191.0  \n",
            "3              93.994      4.857       5191.0  \n",
            "4              93.994      4.857       5191.0  \n",
            "...               ...        ...          ...  \n",
            "41183          94.767      1.028       4963.6  \n",
            "41184          94.767      1.028       4963.6  \n",
            "41185          94.767      1.028       4963.6  \n",
            "41186          94.767      1.028       4963.6  \n",
            "41187          94.767      1.028       4963.6  \n",
            "\n",
            "[41176 rows x 10 columns]\n"
          ]
        }
      ]
    },
    {
      "cell_type": "code",
      "source": [
        "drop_list = [\"cons.conf.idx\",\"marital\",\"month\",\"loan\",\"housing\"]\n",
        "x.drop(drop_list,axis=1,inplace=True)"
      ],
      "metadata": {
        "id": "c8K3CXWMXHun"
      },
      "execution_count": 1012,
      "outputs": []
    },
    {
      "cell_type": "code",
      "source": [
        "data2=pd.read_csv(\"/content/drive/MyDrive/bank-cleaned.csv\")"
      ],
      "metadata": {
        "id": "LQPcH3Jv4dU5"
      },
      "execution_count": 1013,
      "outputs": []
    },
    {
      "cell_type": "code",
      "source": [
        "drop_list = [\"cons.conf.idx\",\"marital\",\"month\",\"loan\",\"housing\"]\n",
        "data2.drop(drop_list,axis=1,inplace=True)"
      ],
      "metadata": {
        "id": "cmcEuoQF4jOS"
      },
      "execution_count": 1014,
      "outputs": []
    },
    {
      "cell_type": "code",
      "source": [
        "data2.to_csv(r'/content/drive/MyDrive/bank-cleaned.csv')"
      ],
      "metadata": {
        "id": "REt-0C6v4xgk"
      },
      "execution_count": 1015,
      "outputs": []
    },
    {
      "cell_type": "code",
      "source": [
        "x_train,x_test,y_train,y_test = train_test_split(x,y, test_size=0.1, random_state=42)"
      ],
      "metadata": {
        "id": "VLVI7ZPK7T1j"
      },
      "execution_count": 1016,
      "outputs": []
    },
    {
      "cell_type": "code",
      "source": [
        "from sklearn.preprocessing import StandardScaler\n",
        "sc_X = StandardScaler()\n",
        "X_train = sc_X.fit_transform(x_train)\n",
        "X_test = sc_X.transform(x_test)"
      ],
      "metadata": {
        "id": "oWPsvoVx53Hn"
      },
      "execution_count": 1017,
      "outputs": []
    },
    {
      "cell_type": "code",
      "source": [
        "from sklearn.neighbors import KNeighborsClassifier\n",
        "from sklearn.tree import DecisionTreeClassifier # Import Decision Tree Classifier\n",
        "from sklearn.svm import SVC\n",
        "from sklearn.ensemble import RandomForestClassifier\n",
        "from sklearn.metrics import classification_report\n",
        "from sklearn.naive_bayes import GaussianNB\n",
        "from sklearn import metrics #Import scikit-learn metrics module for accuracy calculation\n",
        "from sklearn.preprocessing import StandardScaler # Import for standard scaling of the data\n",
        "from sklearn.preprocessing import MinMaxScaler # Import for standard scaling of the data\n",
        "from sklearn.metrics import r2_score, mean_squared_error \n",
        "import lightgbm as lgb\n",
        "from lightgbm import LGBMClassifier, LGBMRegressor, early_stopping, Dataset\n",
        "import xgboost\n",
        "from xgboost import XGBClassifier\n",
        "from sklearn.ensemble import GradientBoostingClassifier\n",
        "from sklearn.linear_model import LogisticRegression\n",
        "\n",
        "# standard scale data\n",
        "ss = StandardScaler()\n",
        "X_train_scaled = ss.fit_transform(X_train)\n",
        "X_test_scaled = ss.transform(X_test)\n",
        "\n",
        "# tested MinMaxScaler as KNN historically does better with MinMax\n",
        "mm = MinMaxScaler()\n",
        "X_train_mm_scaled = ss.fit_transform(X_train)\n",
        "X_test_mm_scaled = ss.transform(X_test)\n",
        "# program to run multilple models though sklearn \n",
        "# Default settings output accuracy and classification report\n",
        "# compares accuracy for scaled and unscaled data\n",
        "def run_models(X_train: pd.DataFrame , y_train: pd.DataFrame, X_test: pd.DataFrame, y_test: pd.DataFrame):\n",
        "    \n",
        "    models = [   \n",
        "          ('Logistic Regression', LogisticRegression()),       \n",
        "          ('Random Forest', RandomForestClassifier(random_state=2020)),\n",
        "          ('Decision Tree', DecisionTreeClassifier()),                                                 \n",
        "          ('KNN', KNeighborsClassifier()),\n",
        "          ('SVM', SVC()),\n",
        "          ('Light bgm', LGBMClassifier()),\n",
        "          ('XG Boost', XGBClassifier()),\n",
        "          ('GradientBoosting', GradientBoostingClassifier()),\n",
        "          ('Hyperparameter Tuned lightGBM' , LGBMClassifier(random_state=100, n_estimators=200, min_child_samples=40, max_depth=20, verbose=0))\n",
        "\n",
        "        ]  \n",
        "    \n",
        "    for name, model in models:        \n",
        "        # unscaled data\n",
        "        clf = model.fit(X_train, y_train)\n",
        "        y_pred = clf.predict(X_test)\n",
        "        \n",
        "        # scaled data\n",
        "        clf_scaled = model.fit(X_train_scaled, y_train)\n",
        "        y_pred_scaled = clf_scaled.predict(X_test_scaled)\n",
        "        \n",
        "        # mm scaled data\n",
        "        clf_mm_scaled = model.fit(X_train_mm_scaled, y_train)\n",
        "        y_pred_mm_scaled = clf_scaled.predict(X_test_mm_scaled)\n",
        "         \n",
        "        # accuracy scores\n",
        "        accuracy = round(metrics.accuracy_score(y_test, y_pred),5)\n",
        "        scaled_accuracy = round(metrics.accuracy_score(y_test, y_pred_scaled),5)\n",
        "        scaled_mm_accuracy = round(metrics.accuracy_score(y_test, y_pred_mm_scaled),5)\n",
        "        \n",
        "        \n",
        "        # output\n",
        "        print(name + ':')        \n",
        "        print(\"---------------------------------------------------------------\")      \n",
        "        print(\"Accuracy:\", accuracy)\n",
        "        print(\"Accuracy w/Scaled Data (ss):\", scaled_accuracy)\n",
        "        print(\"Accuracy w/Scaled Data (mm):\", scaled_mm_accuracy)\n",
        "        print('Mean squared error: %.2f'% mean_squared_error(y_test, y_pred))\n",
        "        r2 = r2_score(y_test,y_pred)\n",
        "        print('R^2 score on test set =',r2)\n",
        "        if (accuracy > scaled_accuracy) and (accuracy > scaled_mm_accuracy):\n",
        "            print(\"\\nClassification Report:\\n\", metrics.classification_report(y_test, y_pred))      \n",
        "            print(\"                            -----------------------------------               \\n\")      \n",
        "        elif (scaled_accuracy > scaled_mm_accuracy):\n",
        "            print(\"\\nClassification Report (ss):\\n\", metrics.classification_report(y_test, y_pred_scaled))      \n",
        "            print(\"                            -----------------------------------               \\n\")     \n",
        "        else:            \n",
        "            print(\"\\nClassification Report (mm):\\n\", metrics.classification_report(y_test, y_pred_mm_scaled))      \n",
        "            print(\"                            -----------------------------------               \\n\")             "
      ],
      "metadata": {
        "id": "bAffgO8x02YI"
      },
      "execution_count": 1018,
      "outputs": []
    },
    {
      "cell_type": "code",
      "source": [
        "#run Decision Trees, Random Forest, KNN and SVM\n",
        "run_models(X_train, y_train, X_test, y_test)"
      ],
      "metadata": {
        "colab": {
          "base_uri": "https://localhost:8080/"
        },
        "id": "OKwwH6JN02Tq",
        "outputId": "759a2254-c9b1-43ee-b789-bf3176dc09df"
      },
      "execution_count": 1019,
      "outputs": [
        {
          "output_type": "stream",
          "name": "stdout",
          "text": [
            "Logistic Regression:\n",
            "---------------------------------------------------------------\n",
            "Accuracy: 0.90845\n",
            "Accuracy w/Scaled Data (ss): 0.90845\n",
            "Accuracy w/Scaled Data (mm): 0.90845\n",
            "Mean squared error: 0.09\n",
            "R^2 score on test set = 0.09953047558560046\n",
            "\n",
            "Classification Report (mm):\n",
            "               precision    recall  f1-score   support\n",
            "\n",
            "           0       0.92      0.98      0.95      3645\n",
            "           1       0.69      0.37      0.48       473\n",
            "\n",
            "    accuracy                           0.91      4118\n",
            "   macro avg       0.81      0.67      0.72      4118\n",
            "weighted avg       0.90      0.91      0.90      4118\n",
            "\n",
            "                            -----------------------------------               \n",
            "\n",
            "Random Forest:\n",
            "---------------------------------------------------------------\n",
            "Accuracy: 0.91161\n",
            "Accuracy w/Scaled Data (ss): 0.91161\n",
            "Accuracy w/Scaled Data (mm): 0.91161\n",
            "Mean squared error: 0.09\n",
            "R^2 score on test set = 0.13058114884126948\n",
            "\n",
            "Classification Report (mm):\n",
            "               precision    recall  f1-score   support\n",
            "\n",
            "           0       0.93      0.97      0.95      3645\n",
            "           1       0.66      0.48      0.55       473\n",
            "\n",
            "    accuracy                           0.91      4118\n",
            "   macro avg       0.80      0.72      0.75      4118\n",
            "weighted avg       0.90      0.91      0.91      4118\n",
            "\n",
            "                            -----------------------------------               \n",
            "\n",
            "Decision Tree:\n",
            "---------------------------------------------------------------\n",
            "Accuracy: 0.88635\n",
            "Accuracy w/Scaled Data (ss): 0.89121\n",
            "Accuracy w/Scaled Data (mm): 0.88781\n",
            "Mean squared error: 0.11\n",
            "R^2 score on test set = -0.11782423720408208\n",
            "\n",
            "Classification Report (ss):\n",
            "               precision    recall  f1-score   support\n",
            "\n",
            "           0       0.94      0.94      0.94      3645\n",
            "           1       0.53      0.52      0.52       473\n",
            "\n",
            "    accuracy                           0.89      4118\n",
            "   macro avg       0.73      0.73      0.73      4118\n",
            "weighted avg       0.89      0.89      0.89      4118\n",
            "\n",
            "                            -----------------------------------               \n",
            "\n",
            "KNN:\n",
            "---------------------------------------------------------------\n",
            "Accuracy: 0.90457\n",
            "Accuracy w/Scaled Data (ss): 0.90457\n",
            "Accuracy w/Scaled Data (mm): 0.90457\n",
            "Mean squared error: 0.10\n",
            "R^2 score on test set = 0.06131426234785409\n",
            "\n",
            "Classification Report (mm):\n",
            "               precision    recall  f1-score   support\n",
            "\n",
            "           0       0.93      0.97      0.95      3645\n",
            "           1       0.62      0.44      0.51       473\n",
            "\n",
            "    accuracy                           0.90      4118\n",
            "   macro avg       0.77      0.70      0.73      4118\n",
            "weighted avg       0.89      0.90      0.90      4118\n",
            "\n",
            "                            -----------------------------------               \n",
            "\n",
            "SVM:\n",
            "---------------------------------------------------------------\n",
            "Accuracy: 0.90554\n",
            "Accuracy w/Scaled Data (ss): 0.90554\n",
            "Accuracy w/Scaled Data (mm): 0.90554\n",
            "Mean squared error: 0.09\n",
            "R^2 score on test set = 0.07086831565729068\n",
            "\n",
            "Classification Report (mm):\n",
            "               precision    recall  f1-score   support\n",
            "\n",
            "           0       0.92      0.98      0.95      3645\n",
            "           1       0.68      0.33      0.45       473\n",
            "\n",
            "    accuracy                           0.91      4118\n",
            "   macro avg       0.80      0.66      0.70      4118\n",
            "weighted avg       0.89      0.91      0.89      4118\n",
            "\n",
            "                            -----------------------------------               \n",
            "\n",
            "Light bgm:\n",
            "---------------------------------------------------------------\n",
            "Accuracy: 0.91768\n",
            "Accuracy w/Scaled Data (ss): 0.91768\n",
            "Accuracy w/Scaled Data (mm): 0.91768\n",
            "Mean squared error: 0.08\n",
            "R^2 score on test set = 0.19029398202524817\n",
            "\n",
            "Classification Report (mm):\n",
            "               precision    recall  f1-score   support\n",
            "\n",
            "           0       0.94      0.97      0.95      3645\n",
            "           1       0.68      0.54      0.60       473\n",
            "\n",
            "    accuracy                           0.92      4118\n",
            "   macro avg       0.81      0.75      0.78      4118\n",
            "weighted avg       0.91      0.92      0.91      4118\n",
            "\n",
            "                            -----------------------------------               \n",
            "\n",
            "XG Boost:\n",
            "---------------------------------------------------------------\n",
            "Accuracy: 0.91598\n",
            "Accuracy w/Scaled Data (ss): 0.91598\n",
            "Accuracy w/Scaled Data (mm): 0.91598\n",
            "Mean squared error: 0.08\n",
            "R^2 score on test set = 0.1735743887337341\n",
            "\n",
            "Classification Report (mm):\n",
            "               precision    recall  f1-score   support\n",
            "\n",
            "           0       0.94      0.97      0.95      3645\n",
            "           1       0.69      0.49      0.57       473\n",
            "\n",
            "    accuracy                           0.92      4118\n",
            "   macro avg       0.81      0.73      0.76      4118\n",
            "weighted avg       0.91      0.92      0.91      4118\n",
            "\n",
            "                            -----------------------------------               \n",
            "\n",
            "GradientBoosting:\n",
            "---------------------------------------------------------------\n",
            "Accuracy: 0.91574\n",
            "Accuracy w/Scaled Data (ss): 0.91574\n",
            "Accuracy w/Scaled Data (mm): 0.91574\n",
            "Mean squared error: 0.08\n",
            "R^2 score on test set = 0.17118587540637498\n",
            "\n",
            "Classification Report (mm):\n",
            "               precision    recall  f1-score   support\n",
            "\n",
            "           0       0.94      0.97      0.95      3645\n",
            "           1       0.69      0.49      0.57       473\n",
            "\n",
            "    accuracy                           0.92      4118\n",
            "   macro avg       0.81      0.73      0.76      4118\n",
            "weighted avg       0.91      0.92      0.91      4118\n",
            "\n",
            "                            -----------------------------------               \n",
            "\n",
            "Hyperparameter Tuned lightGBM:\n",
            "---------------------------------------------------------------\n",
            "Accuracy: 0.91719\n",
            "Accuracy w/Scaled Data (ss): 0.91719\n",
            "Accuracy w/Scaled Data (mm): 0.91719\n",
            "Mean squared error: 0.08\n",
            "R^2 score on test set = 0.18551695537052992\n",
            "\n",
            "Classification Report (mm):\n",
            "               precision    recall  f1-score   support\n",
            "\n",
            "           0       0.94      0.97      0.95      3645\n",
            "           1       0.67      0.55      0.60       473\n",
            "\n",
            "    accuracy                           0.92      4118\n",
            "   macro avg       0.81      0.76      0.78      4118\n",
            "weighted avg       0.91      0.92      0.91      4118\n",
            "\n",
            "                            -----------------------------------               \n",
            "\n"
          ]
        }
      ]
    },
    {
      "cell_type": "code",
      "source": [
        "Lbgm = LGBMClassifier()\n",
        "model = Lbgm.fit(X_train, y_train)"
      ],
      "metadata": {
        "id": "eqfL3ku0Wru2"
      },
      "execution_count": 1020,
      "outputs": []
    },
    {
      "cell_type": "code",
      "source": [
        "plt.barh(x.columns, Lbgm.feature_importances_)"
      ],
      "metadata": {
        "colab": {
          "base_uri": "https://localhost:8080/",
          "height": 280
        },
        "id": "8DoLFbVXWrsV",
        "outputId": "549ec3e9-980d-41af-dfb8-c4fe61857c29"
      },
      "execution_count": 1021,
      "outputs": [
        {
          "output_type": "execute_result",
          "data": {
            "text/plain": [
              "<BarContainer object of 13 artists>"
            ]
          },
          "metadata": {},
          "execution_count": 1021
        },
        {
          "output_type": "display_data",
          "data": {
            "text/plain": [
              "<Figure size 432x288 with 1 Axes>"
            ],
            "image/png": "[encoded data removed]"
          },
          "metadata": {}
        }
      ]
    },
    {
      "cell_type": "code",
      "source": [
        "#confusion matrix\n",
        "y_pred=model.predict(x_test)\n",
        "y_true=y_test\n",
        "\n",
        "\n",
        "from sklearn.metrics import confusion_matrix\n",
        "cm=confusion_matrix(y_true,y_pred)\n",
        "cm"
      ],
      "metadata": {
        "colab": {
          "base_uri": "https://localhost:8080/"
        },
        "id": "M2XF6spO2BVj",
        "outputId": "905a26de-03ce-4d4c-9391-a6b59896939f"
      },
      "execution_count": 1022,
      "outputs": [
        {
          "output_type": "execute_result",
          "data": {
            "text/plain": [
              "array([[3158,  487],\n",
              "       [ 292,  181]])"
            ]
          },
          "metadata": {},
          "execution_count": 1022
        }
      ]
    },
    {
      "cell_type": "code",
      "source": [
        "#confusion matrix visualization\n",
        "import seaborn as sns\n",
        "import matplotlib.pyplot as plt\n",
        "\n",
        "f, ax=plt.subplots(figsize=(5,5))\n",
        "sns.heatmap(cm,annot=True,linewidths=0.5,linecolor=\"red\",fmt=\".0f\",ax=ax)\n",
        "plt.xlabel(\"y_pred\")\n",
        "plt.ylabel(\"y_true\")\n",
        "plt.show()"
      ],
      "metadata": {
        "colab": {
          "base_uri": "https://localhost:8080/",
          "height": 330
        },
        "id": "AnZVyC6c2QYi",
        "outputId": "5628c496-c565-4f38-c2f4-abf8a8b01394"
      },
      "execution_count": 1023,
      "outputs": [
        {
          "output_type": "display_data",
          "data": {
            "text/plain": [
              "<Figure size 360x360 with 2 Axes>"
            ],
            "image/png": "[encoded data removed]"
          },
          "metadata": {}
        }
      ]
    },
    {
      "cell_type": "code",
      "source": [
        "!pip install shap\n",
        "#Installing SHAP"
      ],
      "metadata": {
        "colab": {
          "base_uri": "https://localhost:8080/"
        },
        "id": "juEirfOTbpur",
        "outputId": "7c8505be-99cb-4d16-e0ea-7e9196ee88ef"
      },
      "execution_count": 1024,
      "outputs": [
        {
          "output_type": "stream",
          "name": "stdout",
          "text": [
            "Looking in indexes: https://pypi.org/simple, https://us-python.pkg.dev/colab-wheels/public/simple/\n",
            "Requirement already satisfied: shap in /usr/local/lib/python3.8/dist-packages (0.41.0)\n",
            "Requirement already satisfied: scikit-learn in /usr/local/lib/python3.8/dist-packages (from shap) (1.0.2)\n",
            "Requirement already satisfied: numba in /usr/local/lib/python3.8/dist-packages (from shap) (0.56.4)\n",
            "Requirement already satisfied: numpy in /usr/local/lib/python3.8/dist-packages (from shap) (1.21.6)\n",
            "Requirement already satisfied: slicer==0.0.7 in /usr/local/lib/python3.8/dist-packages (from shap) (0.0.7)\n",
            "Requirement already satisfied: packaging>20.9 in /usr/local/lib/python3.8/dist-packages (from shap) (21.3)\n",
            "Requirement already satisfied: scipy in /usr/local/lib/python3.8/dist-packages (from shap) (1.7.3)\n",
            "Requirement already satisfied: pandas in /usr/local/lib/python3.8/dist-packages (from shap) (1.3.5)\n",
            "Requirement already satisfied: cloudpickle in /usr/local/lib/python3.8/dist-packages (from shap) (1.5.0)\n",
            "Requirement already satisfied: tqdm>4.25.0 in /usr/local/lib/python3.8/dist-packages (from shap) (4.64.1)\n",
            "Requirement already satisfied: pyparsing!=3.0.5,>=2.0.2 in /usr/local/lib/python3.8/dist-packages (from packaging>20.9->shap) (3.0.9)\n",
            "Requirement already satisfied: setuptools in /usr/local/lib/python3.8/dist-packages (from numba->shap) (57.4.0)\n",
            "Requirement already satisfied: importlib-metadata in /usr/local/lib/python3.8/dist-packages (from numba->shap) (5.1.0)\n",
            "Requirement already satisfied: llvmlite<0.40,>=0.39.0dev0 in /usr/local/lib/python3.8/dist-packages (from numba->shap) (0.39.1)\n",
            "Requirement already satisfied: zipp>=0.5 in /usr/local/lib/python3.8/dist-packages (from importlib-metadata->numba->shap) (3.11.0)\n",
            "Requirement already satisfied: pytz>=2017.3 in /usr/local/lib/python3.8/dist-packages (from pandas->shap) (2022.6)\n",
            "Requirement already satisfied: python-dateutil>=2.7.3 in /usr/local/lib/python3.8/dist-packages (from pandas->shap) (2.8.2)\n",
            "Requirement already satisfied: six>=1.5 in /usr/local/lib/python3.8/dist-packages (from python-dateutil>=2.7.3->pandas->shap) (1.15.0)\n",
            "Requirement already satisfied: joblib>=0.11 in /usr/local/lib/python3.8/dist-packages (from scikit-learn->shap) (1.2.0)\n",
            "Requirement already satisfied: threadpoolctl>=2.0.0 in /usr/local/lib/python3.8/dist-packages (from scikit-learn->shap) (3.1.0)\n"
          ]
        }
      ]
    },
    {
      "cell_type": "code",
      "source": [
        "import shap"
      ],
      "metadata": {
        "id": "fihfMRcjWrm2"
      },
      "execution_count": 1025,
      "outputs": []
    },
    {
      "cell_type": "code",
      "source": [
        "shap_values = shap.TreeExplainer(Lbgm).shap_values(x_test)"
      ],
      "metadata": {
        "id": "juA7laNVbYkk"
      },
      "execution_count": 1026,
      "outputs": []
    },
    {
      "cell_type": "code",
      "source": [
        "shap.summary_plot(shap_values, x_test)"
      ],
      "metadata": {
        "colab": {
          "base_uri": "https://localhost:8080/",
          "height": 492
        },
        "id": "OgH4tUaVbYiD",
        "outputId": "a8834c76-7f62-420c-cf82-912a3a92e9b7"
      },
      "execution_count": 1027,
      "outputs": [
        {
          "output_type": "display_data",
          "data": {
            "text/plain": [
              "<Figure size 576x482.4 with 1 Axes>"
            ],
            "image/png": "[encoded data removed]"
          },
          "metadata": {}
        }
      ]
    },
    {
      "cell_type": "code",
      "source": [
        "import shap  # package used to calculate Shap values\n",
        "# Create object that can calculate shap values\n",
        "explainer = shap.TreeExplainer(Lbgm)\n",
        "# calculate shap values. This is what we will plot.\n",
        "# Calculate shap_values for all of val_X rather than a single row, to have more data for plot.\n",
        "shap_values = explainer.shap_values(x_test)\n",
        "# Make plot. Index of [1] is explained in text below.\n",
        "shap.summary_plot(shap_values[1],x_test)"
      ],
      "metadata": {
        "colab": {
          "base_uri": "https://localhost:8080/",
          "height": 492
        },
        "id": "2XzRhnnpXABX",
        "outputId": "716be162-62f4-4305-c26f-294c58f2bd4e"
      },
      "execution_count": 1028,
      "outputs": [
        {
          "output_type": "display_data",
          "data": {
            "text/plain": [
              "<Figure size 576x482.4 with 2 Axes>"
            ],
            "image/png": "[encoded data removed]"
          },
          "metadata": {}
        }
      ]
    },
    {
      "cell_type": "code",
      "source": [
        "lgb_params= {'learning_rate': 0.045, \n",
        "             'n_estimators': 20000, \n",
        "             'max_bin': 94,\n",
        "             'num_leaves': 5, \n",
        "             'max_depth': 30, \n",
        "             'reg_alpha': 8.457, \n",
        "             'reg_lambda': 6.853, \n",
        "             'subsample': 0.749}"
      ],
      "metadata": {
        "id": "WC6BC4Oo4Dtc"
      },
      "execution_count": 1029,
      "outputs": []
    },
    {
      "cell_type": "code",
      "source": [
        "from lightgbm import LGBMClassifier\n",
        "lightGBM = LGBMClassifier(random_state=100, n_estimators=200, min_child_samples=40, max_depth=20, verbose=0)\n",
        "lightGBM.fit(x_train, y_train)"
      ],
      "metadata": {
        "colab": {
          "base_uri": "https://localhost:8080/"
        },
        "id": "fKh5FJeO6jXo",
        "outputId": "9c6d377d-9547-4317-8e49-22efe075a097"
      },
      "execution_count": 1030,
      "outputs": [
        {
          "output_type": "execute_result",
          "data": {
            "text/plain": [
              "LGBMClassifier(max_depth=20, min_child_samples=40, n_estimators=200,\n",
              "               random_state=100, verbose=0)"
            ]
          },
          "metadata": {},
          "execution_count": 1030
        }
      ]
    },
    {
      "cell_type": "code",
      "source": [
        "#confusion matrix\n",
        "y_pred=lightGBM.predict(x_test)\n",
        "y_true=y_test\n",
        "\n",
        "\n",
        "from sklearn.metrics import confusion_matrix\n",
        "cm=confusion_matrix(y_true,y_pred)\n",
        "cm"
      ],
      "metadata": {
        "colab": {
          "base_uri": "https://localhost:8080/"
        },
        "id": "zEPDItxK4FbU",
        "outputId": "3682b068-5762-4576-9f32-3b86c3200239"
      },
      "execution_count": 1031,
      "outputs": [
        {
          "output_type": "execute_result",
          "data": {
            "text/plain": [
              "array([[3525,  120],\n",
              "       [ 227,  246]])"
            ]
          },
          "metadata": {},
          "execution_count": 1031
        }
      ]
    },
    {
      "cell_type": "code",
      "source": [
        "#confusion matrix visualization\n",
        "import seaborn as sns\n",
        "import matplotlib.pyplot as plt\n",
        "\n",
        "f, ax=plt.subplots(figsize=(5,5))\n",
        "sns.heatmap(cm,annot=True,linewidths=0.5,linecolor=\"red\",fmt=\".0f\",ax=ax)\n",
        "plt.xlabel(\"y_pred\")\n",
        "plt.ylabel(\"y_true\")\n",
        "plt.show()"
      ],
      "metadata": {
        "colab": {
          "base_uri": "https://localhost:8080/",
          "height": 332
        },
        "id": "S5deV4o-4FXl",
        "outputId": "d282978f-acce-46d5-eb5c-e367b6f09fae"
      },
      "execution_count": 1032,
      "outputs": [
        {
          "output_type": "display_data",
          "data": {
            "text/plain": [
              "<Figure size 360x360 with 2 Axes>"
            ],
            "image/png": "[encoded data removed]"
          },
          "metadata": {}
        }
      ]
    }
  ]
}